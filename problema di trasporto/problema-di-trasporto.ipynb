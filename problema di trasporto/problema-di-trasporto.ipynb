{
 "metadata": {
  "language_info": {
   "codemirror_mode": {
    "name": "ipython",
    "version": 3
   },
   "file_extension": ".py",
   "mimetype": "text/x-python",
   "name": "python",
   "nbconvert_exporter": "python",
   "pygments_lexer": "ipython3",
   "version": "3.9.6"
  },
  "orig_nbformat": 4,
  "kernelspec": {
   "name": "python3",
   "display_name": "Python 3.9.6 64-bit"
  },
  "interpreter": {
   "hash": "4cd7ab41f5fca4b9b44701077e38c5ffd31fe66a6cab21e0214b68d958d0e462"
  }
 },
 "nbformat": 4,
 "nbformat_minor": 2,
 "cells": [
  {
   "source": [
    "# problema di trasporto\n",
    "\n",
    "Una società di logistica movimenta container vuoti da M magazzini a P porti\n",
    "\n",
    "La richiesta dei porti (vedi tabella) può essere soddisfatta prelevando i container vuoti da uno qualsiasi dei magazzini. \n",
    "\n",
    "![tab1](./tab1.png)\n",
    "\n",
    "Ogni magazzino, tuttavia, ha una disponibilità limitata di container (vedi tabella)\n",
    "\n",
    "![tab2](./tab2.png)\n",
    "\n",
    "La movimentazione avviene attraverso una flotta di camion, ognuno dei quali può trasportare al massimo 2 container. \n",
    "\n",
    "Il costo di ogni viaggio dipende dalla distanza che intercorre tra magazzino e porto ed è descritto dalla seguente tabella:\n",
    "\n",
    "![tab3](./tab3.png)\n",
    "\n",
    "Come devono essere organizzate le consegne al fine di minimizzare il costo totale di movimentazione?\n"
   ],
   "cell_type": "markdown",
   "metadata": {}
  },
  {
   "source": [
    "## modello di programmazione matematica\n",
    "\n",
    "![img1](./img1.png)\n",
    "\n",
    "![img2](./img2.png)"
   ],
   "cell_type": "markdown",
   "metadata": {}
  },
  {
   "cell_type": "code",
   "execution_count": 24,
   "metadata": {},
   "outputs": [
    {
     "output_type": "stream",
     "name": "stdout",
     "text": [
      "Model problema di trasporto\n\n  Variables:\n    x : Size=30, Index=x_index\n        Key                        : Lower : Value : Upper : Fixed : Stale : Domain\n              ('Arezzo', 'Ancona') :     0 :   1.0 :  None : False : False : NonNegativeIntegers\n                ('Arezzo', 'Bari') :     0 :   0.0 :  None : False : False : NonNegativeIntegers\n           ('Arezzo', 'La Spezia') :     0 :   6.0 :  None : False : False : NonNegativeIntegers\n              ('Arezzo', 'Napoli') :     0 :   0.0 :  None : False : False : NonNegativeIntegers\n             ('Arezzo', 'Trieste') :     0 :   5.0 :  None : False : False : NonNegativeIntegers\n           ('Catanzaro', 'Ancona') :     0 :   0.0 :  None : False : False : NonNegativeIntegers\n             ('Catanzaro', 'Bari') :     0 :   4.0 :  None : False : False : NonNegativeIntegers\n        ('Catanzaro', 'La Spezia') :     0 :   0.0 :  None : False : False : NonNegativeIntegers\n           ('Catanzaro', 'Napoli') :     0 :  26.0 :  None : False : False : NonNegativeIntegers\n          ('Catanzaro', 'Trieste') :     0 :   0.0 :  None : False : False : NonNegativeIntegers\n               ('Lecce', 'Ancona') :     0 :   0.0 :  None : False : False : NonNegativeIntegers\n                 ('Lecce', 'Bari') :     0 :  17.0 :  None : False : False : NonNegativeIntegers\n            ('Lecce', 'La Spezia') :     0 :   0.0 :  None : False : False : NonNegativeIntegers\n               ('Lecce', 'Napoli') :     0 :   1.0 :  None : False : False : NonNegativeIntegers\n              ('Lecce', 'Trieste') :     0 :   0.0 :  None : False : False : NonNegativeIntegers\n              ('Padova', 'Ancona') :     0 :   0.0 :  None : False : False : NonNegativeIntegers\n                ('Padova', 'Bari') :     0 :   0.0 :  None : False : False : NonNegativeIntegers\n           ('Padova', 'La Spezia') :     0 :   0.0 :  None : False : False : NonNegativeIntegers\n              ('Padova', 'Napoli') :     0 :   0.0 :  None : False : False : NonNegativeIntegers\n             ('Padova', 'Trieste') :     0 :  10.0 :  None : False : False : NonNegativeIntegers\n                ('Roma', 'Ancona') :     0 :   0.0 :  None : False : False : NonNegativeIntegers\n                  ('Roma', 'Bari') :     0 :   0.0 :  None : False : False : NonNegativeIntegers\n             ('Roma', 'La Spezia') :     0 :  14.0 :  None : False : False : NonNegativeIntegers\n                ('Roma', 'Napoli') :     0 :   6.0 :  None : False : False : NonNegativeIntegers\n               ('Roma', 'Trieste') :     0 :   0.0 :  None : False : False : NonNegativeIntegers\n              ('Teramo', 'Ancona') :     0 :  24.0 :  None : False : False : NonNegativeIntegers\n                ('Teramo', 'Bari') :     0 :   0.0 :  None : False : False : NonNegativeIntegers\n           ('Teramo', 'La Spezia') :     0 :   0.0 :  None : False : False : NonNegativeIntegers\n              ('Teramo', 'Napoli') :     0 :   0.0 :  None : False : False : NonNegativeIntegers\n             ('Teramo', 'Trieste') :     0 :   0.0 :  None : False : False : NonNegativeIntegers\n    y : Size=30, Index=y_index\n        Key                        : Lower : Value : Upper : Fixed : Stale : Domain\n              ('Arezzo', 'Ancona') :     0 :   1.0 :  None : False : False : NonNegativeIntegers\n                ('Arezzo', 'Bari') :     0 :   0.0 :  None : False : False : NonNegativeIntegers\n           ('Arezzo', 'La Spezia') :     0 :   3.0 :  None : False : False : NonNegativeIntegers\n              ('Arezzo', 'Napoli') :     0 :   0.0 :  None : False : False : NonNegativeIntegers\n             ('Arezzo', 'Trieste') :     0 :   3.0 :  None : False : False : NonNegativeIntegers\n           ('Catanzaro', 'Ancona') :     0 :   0.0 :  None : False : False : NonNegativeIntegers\n             ('Catanzaro', 'Bari') :     0 :   2.0 :  None : False : False : NonNegativeIntegers\n        ('Catanzaro', 'La Spezia') :     0 :   0.0 :  None : False : False : NonNegativeIntegers\n           ('Catanzaro', 'Napoli') :     0 :  13.0 :  None : False : False : NonNegativeIntegers\n          ('Catanzaro', 'Trieste') :     0 :   0.0 :  None : False : False : NonNegativeIntegers\n               ('Lecce', 'Ancona') :     0 :   0.0 :  None : False : False : NonNegativeIntegers\n                 ('Lecce', 'Bari') :     0 :   9.0 :  None : False : False : NonNegativeIntegers\n            ('Lecce', 'La Spezia') :     0 :   0.0 :  None : False : False : NonNegativeIntegers\n               ('Lecce', 'Napoli') :     0 :   1.0 :  None : False : False : NonNegativeIntegers\n              ('Lecce', 'Trieste') :     0 :   0.0 :  None : False : False : NonNegativeIntegers\n              ('Padova', 'Ancona') :     0 :   0.0 :  None : False : False : NonNegativeIntegers\n                ('Padova', 'Bari') :     0 :   0.0 :  None : False : False : NonNegativeIntegers\n           ('Padova', 'La Spezia') :     0 :   0.0 :  None : False : False : NonNegativeIntegers\n              ('Padova', 'Napoli') :     0 :   0.0 :  None : False : False : NonNegativeIntegers\n             ('Padova', 'Trieste') :     0 :   5.0 :  None : False : False : NonNegativeIntegers\n                ('Roma', 'Ancona') :     0 :   0.0 :  None : False : False : NonNegativeIntegers\n                  ('Roma', 'Bari') :     0 :   0.0 :  None : False : False : NonNegativeIntegers\n             ('Roma', 'La Spezia') :     0 :   7.0 :  None : False : False : NonNegativeIntegers\n                ('Roma', 'Napoli') :     0 :   3.0 :  None : False : False : NonNegativeIntegers\n               ('Roma', 'Trieste') :     0 :   0.0 :  None : False : False : NonNegativeIntegers\n              ('Teramo', 'Ancona') :     0 :  12.0 :  None : False : False : NonNegativeIntegers\n                ('Teramo', 'Bari') :     0 :   0.0 :  None : False : False : NonNegativeIntegers\n           ('Teramo', 'La Spezia') :     0 :   0.0 :  None : False : False : NonNegativeIntegers\n              ('Teramo', 'Napoli') :     0 :   0.0 :  None : False : False : NonNegativeIntegers\n             ('Teramo', 'Trieste') :     0 :   0.0 :  None : False : False : NonNegativeIntegers\n\n  Objectives:\n    cost : Size=1, Index=None, Active=True\n        Key  : Active : Value\n        None :   True : 468510.0\n\n  Constraints:\n    constraints : Size=41\n        Key : Lower : Body : Upper\n          1 :  None : 10.0 :  10.0\n          2 :  None : 12.0 :  12.0\n          3 :  None : 20.0 :  20.0\n          4 :  None : 24.0 :  24.0\n          5 :  None : 18.0 :  18.0\n          6 :  None : 30.0 :  40.0\n          7 :  20.0 : 20.0 :  None\n          8 :  15.0 : 15.0 :  None\n          9 :  25.0 : 25.0 :  None\n         10 :  33.0 : 33.0 :  None\n         11 :  21.0 : 21.0 :  None\n         12 :  None :  0.0 :   0.0\n         13 :  None :  0.0 :   0.0\n         14 :  None :  0.0 :   0.0\n         15 :  None :  0.0 :   0.0\n         16 :  None :  0.0 :   0.0\n         17 :  None :  0.0 :   0.0\n         18 :  None : -1.0 :   0.0\n         19 :  None : -1.0 :   0.0\n         20 :  None :  0.0 :   0.0\n         21 :  None :  0.0 :   0.0\n         22 :  None :  0.0 :   0.0\n         23 :  None :  0.0 :   0.0\n         24 :  None :  0.0 :   0.0\n         25 :  None :  0.0 :   0.0\n         26 :  None :  0.0 :   0.0\n         27 :  None :  0.0 :   0.0\n         28 :  None :  0.0 :   0.0\n         29 :  None :  0.0 :   0.0\n         30 :  None :  0.0 :   0.0\n         31 :  None :  0.0 :   0.0\n         32 :  None :  0.0 :   0.0\n         33 :  None :  0.0 :   0.0\n         34 :  None :  0.0 :   0.0\n         35 :  None : -1.0 :   0.0\n         36 :  None : -1.0 :   0.0\n         37 :  None :  0.0 :   0.0\n         38 :  None :  0.0 :   0.0\n         39 :  None :  0.0 :   0.0\n         40 :  None :  0.0 :   0.0\n         41 :  None :  0.0 :   0.0\n"
     ]
    }
   ],
   "source": [
    "from pyomo.environ import *\n",
    "from pyomo.opt import SolverStatus, TerminationCondition\n",
    "\n",
    "model = ConcreteModel('problema di trasporto')\n",
    "\n",
    "i = [ 'Padova', 'Arezzo', 'Roma', 'Teramo', 'Lecce', 'Catanzaro' ]\n",
    "m = [ 10, 12, 20, 24, 18, 40 ]\n",
    "\n",
    "j = [ 'La Spezia', 'Trieste', 'Ancona', 'Napoli', 'Bari' ]\n",
    "r = [ 20, 15, 25, 33, 21 ]\n",
    "\n",
    "c = [[ 8700,  3450, 10650, 21450, 24300],\n",
    "     [11400, 10200,  4950, 11400, 18300],\n",
    "     [15150, 15900,  8550,  6600, 13500],\n",
    "     [19650, 13500,  4650,  7200,  9450], \n",
    "     [30300, 25200, 16500,  9150,  2850], \n",
    "     [32160, 32910, 22410, 11160,  9990]]\n",
    "\n",
    "model.i = Set(initialize=i)\n",
    "model.j = Set(initialize=j)\n",
    "\n",
    "c_dict = {}\n",
    "for i, mi in enumerate(model.i):\n",
    "    for j, mj in enumerate(model.j):\n",
    "        c_dict[mi, mj] = c[i][j]\n",
    "\n",
    "m = {mi: m[i] for i, mi in enumerate(model.i)}\n",
    "r = {mj: r[j] for j, mj in enumerate(model.j)}\n",
    "\n",
    "model.m = Param(model.i, initialize=m)\n",
    "model.r = Param(model.j, initialize=r)\n",
    "model.c = Param(model.i, model.j, initialize=c_dict)\n",
    "\n",
    "model.x = Var(model.i, model.j, domain=NonNegativeIntegers, initialize=0)\n",
    "model.y = Var(model.i, model.j, domain=NonNegativeIntegers, initialize=0)\n",
    "\n",
    "obj_expr = sum(sum(model.c[i, j]*model.y[i, j] for j in model.j) for i in model.i)\n",
    "model.cost = Objective(expr = obj_expr, sense=minimize)\n",
    "\n",
    "model.constraints = ConstraintList()\n",
    "\n",
    "for i in model.i:\n",
    "    model.constraints.add(expr = sum(model.x[i, j] for j in model.j) <= model.m[i])\n",
    "\n",
    "for j in model.j:\n",
    "    model.constraints.add(expr = sum(model.x[i, j] for i in model.i) >= model.r[j])\n",
    "\n",
    "for i in model.i:\n",
    "    for j in model.j:\n",
    "        model.constraints.add(expr = 2*model.y[i, j] >= model.x[i, j])\n",
    "\n",
    "SolverFactory('glpk').solve(model)\n",
    "model.display() \n"
   ]
  },
  {
   "cell_type": "code",
   "execution_count": null,
   "metadata": {},
   "outputs": [],
   "source": []
  }
 ]
}