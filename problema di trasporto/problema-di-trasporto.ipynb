{
 "metadata": {
  "language_info": {
   "codemirror_mode": {
    "name": "ipython",
    "version": 3
   },
   "file_extension": ".py",
   "mimetype": "text/x-python",
   "name": "python",
   "nbconvert_exporter": "python",
   "pygments_lexer": "ipython3",
   "version": "3.9.6"
  },
  "orig_nbformat": 4,
  "kernelspec": {
   "name": "python3",
   "display_name": "Python 3.9.6 64-bit"
  },
  "interpreter": {
   "hash": "4cd7ab41f5fca4b9b44701077e38c5ffd31fe66a6cab21e0214b68d958d0e462"
  }
 },
 "nbformat": 4,
 "nbformat_minor": 2,
 "cells": [
  {
   "source": [
    "# problema di trasporto\n",
    "\n",
    "Una società di logistica movimenta container vuoti da M magazzini a P porti\n",
    "\n",
    "La richiesta dei porti (vedi tabella) può essere soddisfatta prelevando i container vuoti da uno qualsiasi dei magazzini. \n",
    "\n",
    "![tab1](./tab1.png)\n",
    "\n",
    "Ogni magazzino, tuttavia, ha una disponibilità limitata di container (vedi tabella)\n",
    "\n",
    "![tab2](./tab2.png)\n",
    "\n",
    "La movimentazione avviene attraverso una flotta di camion, ognuno dei quali può trasportare al massimo 2 container. \n",
    "\n",
    "Il costo di ogni viaggio dipende dalla distanza che intercorre tra magazzino e porto ed è descritto dalla seguente tabella:\n",
    "\n",
    "![tab3](./tab3.png)\n",
    "\n",
    "Come devono essere organizzate le consegne al fine di minimizzare il costo totale di movimentazione?\n"
   ],
   "cell_type": "markdown",
   "metadata": {}
  },
  {
   "source": [
    "## modello di programmazione matematica\n",
    "\n",
    "![img1](./img1.png)\n",
    "\n",
    "![img2](./img2.png)"
   ],
   "cell_type": "markdown",
   "metadata": {}
  },
  {
   "cell_type": "code",
   "execution_count": 50,
   "metadata": {},
   "outputs": [
    {
     "output_type": "stream",
     "name": "stdout",
     "text": [
      "\nProblem: \n- Name: unknown\n  Lower bound: -inf\n  Upper bound: inf\n  Number of objectives: 1\n  Number of constraints: 42\n  Number of variables: 61\n  Number of nonzeros: 121\n  Sense: minimize\nSolver: \n- Status: ok\n  Termination condition: other\n  Statistics: \n    Branch and bound: \n      Number of bounded subproblems: 0\n      Number of created subproblems: 0\n  Error rc: 0\n  Time: 0.008928775787353516\n\n"
     ]
    }
   ],
   "source": [
    "from pyomo.environ import *\n",
    "from pyomo.opt import SolverStatus, TerminationCondition\n",
    "\n",
    "model = ConcreteModel()\n",
    "\n",
    "nomi_magazzini = [ 'La Spezia', 'Trieste', 'Ancona', 'Napoli', 'Bari' ]\n",
    "disp_magazzini = [ 20, 15, 25, 33, 21 ]\n",
    "ind_magazzini = range(len(nomi_magazzini))\n",
    "assert len(nomi_magazzini) == len(disp_magazzini)\n",
    "\n",
    "nomi_porti = [ 'Padova', 'Arezzo', 'Roma', 'Teramo', 'Lecce', 'Catanzaro' ]\n",
    "rich_porti = [ 10, 12, 20, 24, 18, 40 ]\n",
    "ind_porti = range(len(nomi_porti))\n",
    "assert len(nomi_porti) == len(rich_porti)\n",
    "\n",
    "costi_list = [[8700, 3450, 10650, 21450, 24300],\n",
    "          [11400, 10200, 4950, 11400, 18300], \n",
    "          [15150, 15900, 8550, 6600, 13500],\n",
    "          [19650, 13500, 4650, 7200, 9450], \n",
    "          [30300, 25200, 16500, 9150, 2850], \n",
    "          [32160, 32910, 22410, 11160, 9990]]\n",
    "\n",
    "costi = {}\n",
    "for j in ind_porti:\n",
    "    for i in ind_magazzini:\n",
    "        costi[j, i] = costi_list[j][i]\n",
    "\n",
    "model.i = RangeSet(0,len(nomi_magazzini))\n",
    "model.j = RangeSet(0,len(nomi_porti))\n",
    "\n",
    "model.m = Set(initialize=disp_magazzini)\n",
    "model.r = Set(initialize=rich_porti)\n",
    "\n",
    "model.c = Param(model.i, model.j, initialize=costi)\n",
    "\n",
    "model.x = Var(model.j, model.i, domain=NonNegativeReals)\n",
    "model.y = Var(model.j, model.i, domain=NonNegativeReals)\n",
    "\n",
    "obj_expr = sum(sum(model.c[j, i]*model.y[j, i] for i in ind_magazzini) for j in ind_porti)\n",
    "\n",
    "model.cost = Objective(expr = obj_expr, sense=minimize)\n",
    "\n",
    "model.constraints = ConstraintList()\n",
    "\n",
    "for i in ind_magazzini:\n",
    "    model.constraints.add(expr = sum(model.x[j, i] for j in ind_porti) <= disp_magazzini[i])\n",
    "\n",
    "for j in ind_porti:\n",
    "    model.constraints.add(expr = sum(model.x[j, i] for i in ind_magazzini) >= rich_porti[j])\n",
    "\n",
    "for j in ind_porti:\n",
    "    for i in ind_magazzini:\n",
    "        model.constraints.add(expr = 2*model.y[j, i] >= model.x[j, i])\n",
    "\n",
    "result = SolverFactory('glpk').solve(model)\n",
    "\n",
    "print(result)\n"
   ]
  },
  {
   "cell_type": "code",
   "execution_count": null,
   "metadata": {},
   "outputs": [],
   "source": []
  }
 ]
}