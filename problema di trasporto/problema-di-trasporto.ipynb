{
 "metadata": {
  "language_info": {
   "codemirror_mode": {
    "name": "ipython",
    "version": 3
   },
   "file_extension": ".py",
   "mimetype": "text/x-python",
   "name": "python",
   "nbconvert_exporter": "python",
   "pygments_lexer": "ipython3",
   "version": "3.9.6"
  },
  "orig_nbformat": 4,
  "kernelspec": {
   "name": "python3",
   "display_name": "Python 3.9.6 64-bit ('local')"
  },
  "interpreter": {
   "hash": "4cd7ab41f5fca4b9b44701077e38c5ffd31fe66a6cab21e0214b68d958d0e462"
  }
 },
 "nbformat": 4,
 "nbformat_minor": 2,
 "cells": [
  {
   "source": [
    "# problema di trasporto\n",
    "\n",
    "Una società di logistica movimenta container vuoti da M magazzini a P porti\n",
    "\n",
    "La richiesta dei porti (vedi tabella) può essere soddisfatta prelevando i container vuoti da uno qualsiasi dei magazzini. \n",
    "\n",
    "![tab1](./tab1.png)\n",
    "\n",
    "Ogni magazzino, tuttavia, ha una disponibilità limitata di container (vedi tabella)\n",
    "\n",
    "![tab2](./tab2.png)\n",
    "\n",
    "La movimentazione avviene attraverso una flotta di camion, ognuno dei quali può trasportare al massimo 2 container. \n",
    "\n",
    "Il costo di ogni viaggio dipende dalla distanza che intercorre tra magazzino e porto ed è descritto dalla seguente tabella:\n",
    "\n",
    "![tab3](./tab3.png)\n",
    "\n",
    "Come devono essere organizzate le consegne al fine di minimizzare il costo totale di movimentazione?\n"
   ],
   "cell_type": "markdown",
   "metadata": {}
  },
  {
   "source": [
    "## modello di programmazione matematica\n",
    "\n",
    "![img1](./img1.png)\n",
    "\n",
    "![img2](./img2.png)"
   ],
   "cell_type": "markdown",
   "metadata": {}
  },
  {
   "cell_type": "code",
   "execution_count": 4,
   "metadata": {},
   "outputs": [
    {
     "output_type": "stream",
     "name": "stdout",
     "text": [
      "5 Set Declarations\n    c_index : Size=1, Index=None, Ordered=True\n        Key  : Dimen : Domain : Size : Members\n        None :     2 :    i*j :   30 : {('La Spezia', 'Padova'), ('La Spezia', 'Arezzo'), ('La Spezia', 'Roma'), ('La Spezia', 'Teramo'), ('La Spezia', 'Lecce'), ('La Spezia', 'Catanzaro'), ('Trieste', 'Padova'), ('Trieste', 'Arezzo'), ('Trieste', 'Roma'), ('Trieste', 'Teramo'), ('Trieste', 'Lecce'), ('Trieste', 'Catanzaro'), ('Ancona', 'Padova'), ('Ancona', 'Arezzo'), ('Ancona', 'Roma'), ('Ancona', 'Teramo'), ('Ancona', 'Lecce'), ('Ancona', 'Catanzaro'), ('Napoli', 'Padova'), ('Napoli', 'Arezzo'), ('Napoli', 'Roma'), ('Napoli', 'Teramo'), ('Napoli', 'Lecce'), ('Napoli', 'Catanzaro'), ('Bari', 'Padova'), ('Bari', 'Arezzo'), ('Bari', 'Roma'), ('Bari', 'Teramo'), ('Bari', 'Lecce'), ('Bari', 'Catanzaro')}\n    i : Size=1, Index=None, Ordered=Insertion\n        Key  : Dimen : Domain : Size : Members\n        None :     1 :    Any :    5 : {'La Spezia', 'Trieste', 'Ancona', 'Napoli', 'Bari'}\n    j : Size=1, Index=None, Ordered=Insertion\n        Key  : Dimen : Domain : Size : Members\n        None :     1 :    Any :    6 : {'Padova', 'Arezzo', 'Roma', 'Teramo', 'Lecce', 'Catanzaro'}\n    x_index : Size=1, Index=None, Ordered=True\n        Key  : Dimen : Domain : Size : Members\n        None :     2 :    i*j :   30 : {('La Spezia', 'Padova'), ('La Spezia', 'Arezzo'), ('La Spezia', 'Roma'), ('La Spezia', 'Teramo'), ('La Spezia', 'Lecce'), ('La Spezia', 'Catanzaro'), ('Trieste', 'Padova'), ('Trieste', 'Arezzo'), ('Trieste', 'Roma'), ('Trieste', 'Teramo'), ('Trieste', 'Lecce'), ('Trieste', 'Catanzaro'), ('Ancona', 'Padova'), ('Ancona', 'Arezzo'), ('Ancona', 'Roma'), ('Ancona', 'Teramo'), ('Ancona', 'Lecce'), ('Ancona', 'Catanzaro'), ('Napoli', 'Padova'), ('Napoli', 'Arezzo'), ('Napoli', 'Roma'), ('Napoli', 'Teramo'), ('Napoli', 'Lecce'), ('Napoli', 'Catanzaro'), ('Bari', 'Padova'), ('Bari', 'Arezzo'), ('Bari', 'Roma'), ('Bari', 'Teramo'), ('Bari', 'Lecce'), ('Bari', 'Catanzaro')}\n    y_index : Size=1, Index=None, Ordered=True\n        Key  : Dimen : Domain : Size : Members\n        None :     2 :    i*j :   30 : {('La Spezia', 'Padova'), ('La Spezia', 'Arezzo'), ('La Spezia', 'Roma'), ('La Spezia', 'Teramo'), ('La Spezia', 'Lecce'), ('La Spezia', 'Catanzaro'), ('Trieste', 'Padova'), ('Trieste', 'Arezzo'), ('Trieste', 'Roma'), ('Trieste', 'Teramo'), ('Trieste', 'Lecce'), ('Trieste', 'Catanzaro'), ('Ancona', 'Padova'), ('Ancona', 'Arezzo'), ('Ancona', 'Roma'), ('Ancona', 'Teramo'), ('Ancona', 'Lecce'), ('Ancona', 'Catanzaro'), ('Napoli', 'Padova'), ('Napoli', 'Arezzo'), ('Napoli', 'Roma'), ('Napoli', 'Teramo'), ('Napoli', 'Lecce'), ('Napoli', 'Catanzaro'), ('Bari', 'Padova'), ('Bari', 'Arezzo'), ('Bari', 'Roma'), ('Bari', 'Teramo'), ('Bari', 'Lecce'), ('Bari', 'Catanzaro')}\n\n3 Param Declarations\n    c : Size=30, Index=c_index, Domain=Any, Default=None, Mutable=False\n        Key                        : Value\n              ('Ancona', 'Arezzo') :  4950.0\n           ('Ancona', 'Catanzaro') : 22410.0\n               ('Ancona', 'Lecce') : 16500.0\n              ('Ancona', 'Padova') : 10650.0\n                ('Ancona', 'Roma') :  8550.0\n              ('Ancona', 'Teramo') :  4650.0\n                ('Bari', 'Arezzo') : 18300.0\n             ('Bari', 'Catanzaro') :  9990.0\n                 ('Bari', 'Lecce') :  2850.0\n                ('Bari', 'Padova') : 24300.0\n                  ('Bari', 'Roma') : 13500.0\n                ('Bari', 'Teramo') :  9450.0\n           ('La Spezia', 'Arezzo') : 11400.0\n        ('La Spezia', 'Catanzaro') : 32160.0\n            ('La Spezia', 'Lecce') : 30300.0\n           ('La Spezia', 'Padova') :  8700.0\n             ('La Spezia', 'Roma') : 15150.0\n           ('La Spezia', 'Teramo') : 19650.0\n              ('Napoli', 'Arezzo') : 11400.0\n           ('Napoli', 'Catanzaro') : 11160.0\n               ('Napoli', 'Lecce') :  9150.0\n              ('Napoli', 'Padova') : 21450.0\n                ('Napoli', 'Roma') :  6600.0\n              ('Napoli', 'Teramo') :  7200.0\n             ('Trieste', 'Arezzo') : 10200.0\n          ('Trieste', 'Catanzaro') : 32910.0\n              ('Trieste', 'Lecce') : 25200.0\n             ('Trieste', 'Padova') :  3450.0\n               ('Trieste', 'Roma') : 15900.0\n             ('Trieste', 'Teramo') : 13500.0\n    m : Size=5, Index=i, Domain=Any, Default=None, Mutable=False\n        Key       : Value\n           Ancona :    25\n             Bari :    21\n        La Spezia :    20\n           Napoli :    33\n          Trieste :    15\n    r : Size=6, Index=j, Domain=Any, Default=None, Mutable=False\n        Key       : Value\n           Arezzo :    12\n        Catanzaro :    40\n            Lecce :    18\n           Padova :    10\n             Roma :    20\n           Teramo :    24\n\n2 Var Declarations\n    x : Size=30, Index=x_index\n        Key                        : Lower : Value : Upper : Fixed : Stale : Domain\n              ('Ancona', 'Arezzo') :     0 :     0 :  None : False : False : NonNegativeIntegers\n           ('Ancona', 'Catanzaro') :     0 :     0 :  None : False : False : NonNegativeIntegers\n               ('Ancona', 'Lecce') :     0 :     0 :  None : False : False : NonNegativeIntegers\n              ('Ancona', 'Padova') :     0 :     0 :  None : False : False : NonNegativeIntegers\n                ('Ancona', 'Roma') :     0 :     0 :  None : False : False : NonNegativeIntegers\n              ('Ancona', 'Teramo') :     0 :     0 :  None : False : False : NonNegativeIntegers\n                ('Bari', 'Arezzo') :     0 :     0 :  None : False : False : NonNegativeIntegers\n             ('Bari', 'Catanzaro') :     0 :     0 :  None : False : False : NonNegativeIntegers\n                 ('Bari', 'Lecce') :     0 :     0 :  None : False : False : NonNegativeIntegers\n                ('Bari', 'Padova') :     0 :     0 :  None : False : False : NonNegativeIntegers\n                  ('Bari', 'Roma') :     0 :     0 :  None : False : False : NonNegativeIntegers\n                ('Bari', 'Teramo') :     0 :     0 :  None : False : False : NonNegativeIntegers\n           ('La Spezia', 'Arezzo') :     0 :     0 :  None : False : False : NonNegativeIntegers\n        ('La Spezia', 'Catanzaro') :     0 :     0 :  None : False : False : NonNegativeIntegers\n            ('La Spezia', 'Lecce') :     0 :     0 :  None : False : False : NonNegativeIntegers\n           ('La Spezia', 'Padova') :     0 :     0 :  None : False : False : NonNegativeIntegers\n             ('La Spezia', 'Roma') :     0 :     0 :  None : False : False : NonNegativeIntegers\n           ('La Spezia', 'Teramo') :     0 :     0 :  None : False : False : NonNegativeIntegers\n              ('Napoli', 'Arezzo') :     0 :     0 :  None : False : False : NonNegativeIntegers\n           ('Napoli', 'Catanzaro') :     0 :     0 :  None : False : False : NonNegativeIntegers\n               ('Napoli', 'Lecce') :     0 :     0 :  None : False : False : NonNegativeIntegers\n              ('Napoli', 'Padova') :     0 :     0 :  None : False : False : NonNegativeIntegers\n                ('Napoli', 'Roma') :     0 :     0 :  None : False : False : NonNegativeIntegers\n              ('Napoli', 'Teramo') :     0 :     0 :  None : False : False : NonNegativeIntegers\n             ('Trieste', 'Arezzo') :     0 :     0 :  None : False : False : NonNegativeIntegers\n          ('Trieste', 'Catanzaro') :     0 :     0 :  None : False : False : NonNegativeIntegers\n              ('Trieste', 'Lecce') :     0 :     0 :  None : False : False : NonNegativeIntegers\n             ('Trieste', 'Padova') :     0 :     0 :  None : False : False : NonNegativeIntegers\n               ('Trieste', 'Roma') :     0 :     0 :  None : False : False : NonNegativeIntegers\n             ('Trieste', 'Teramo') :     0 :     0 :  None : False : False : NonNegativeIntegers\n    y : Size=30, Index=y_index\n        Key                        : Lower : Value : Upper : Fixed : Stale : Domain\n              ('Ancona', 'Arezzo') :     0 :     0 :  None : False : False : NonNegativeIntegers\n           ('Ancona', 'Catanzaro') :     0 :     0 :  None : False : False : NonNegativeIntegers\n               ('Ancona', 'Lecce') :     0 :     0 :  None : False : False : NonNegativeIntegers\n              ('Ancona', 'Padova') :     0 :     0 :  None : False : False : NonNegativeIntegers\n                ('Ancona', 'Roma') :     0 :     0 :  None : False : False : NonNegativeIntegers\n              ('Ancona', 'Teramo') :     0 :     0 :  None : False : False : NonNegativeIntegers\n                ('Bari', 'Arezzo') :     0 :     0 :  None : False : False : NonNegativeIntegers\n             ('Bari', 'Catanzaro') :     0 :     0 :  None : False : False : NonNegativeIntegers\n                 ('Bari', 'Lecce') :     0 :     0 :  None : False : False : NonNegativeIntegers\n                ('Bari', 'Padova') :     0 :     0 :  None : False : False : NonNegativeIntegers\n                  ('Bari', 'Roma') :     0 :     0 :  None : False : False : NonNegativeIntegers\n                ('Bari', 'Teramo') :     0 :     0 :  None : False : False : NonNegativeIntegers\n           ('La Spezia', 'Arezzo') :     0 :     0 :  None : False : False : NonNegativeIntegers\n        ('La Spezia', 'Catanzaro') :     0 :     0 :  None : False : False : NonNegativeIntegers\n            ('La Spezia', 'Lecce') :     0 :     0 :  None : False : False : NonNegativeIntegers\n           ('La Spezia', 'Padova') :     0 :     0 :  None : False : False : NonNegativeIntegers\n             ('La Spezia', 'Roma') :     0 :     0 :  None : False : False : NonNegativeIntegers\n           ('La Spezia', 'Teramo') :     0 :     0 :  None : False : False : NonNegativeIntegers\n              ('Napoli', 'Arezzo') :     0 :     0 :  None : False : False : NonNegativeIntegers\n           ('Napoli', 'Catanzaro') :     0 :     0 :  None : False : False : NonNegativeIntegers\n               ('Napoli', 'Lecce') :     0 :     0 :  None : False : False : NonNegativeIntegers\n              ('Napoli', 'Padova') :     0 :     0 :  None : False : False : NonNegativeIntegers\n                ('Napoli', 'Roma') :     0 :     0 :  None : False : False : NonNegativeIntegers\n              ('Napoli', 'Teramo') :     0 :     0 :  None : False : False : NonNegativeIntegers\n             ('Trieste', 'Arezzo') :     0 :     0 :  None : False : False : NonNegativeIntegers\n          ('Trieste', 'Catanzaro') :     0 :     0 :  None : False : False : NonNegativeIntegers\n              ('Trieste', 'Lecce') :     0 :     0 :  None : False : False : NonNegativeIntegers\n             ('Trieste', 'Padova') :     0 :     0 :  None : False : False : NonNegativeIntegers\n               ('Trieste', 'Roma') :     0 :     0 :  None : False : False : NonNegativeIntegers\n             ('Trieste', 'Teramo') :     0 :     0 :  None : False : False : NonNegativeIntegers\n\n1 Suffix Declarations\n    dual : Direction=Suffix.IMPORT, Datatype=Suffix.FLOAT\n        Key : Value\n\n11 Declarations: dual i j m r c_index c x_index x y_index y\n"
     ]
    },
    {
     "output_type": "error",
     "ename": "KeyError",
     "evalue": "\"Index '('Padova', 'La Spezia')' is not valid for indexed component 'c'\"",
     "traceback": [
      "\u001b[0;31m---------------------------------------------------------------------------\u001b[0m",
      "\u001b[0;31mKeyError\u001b[0m                                  Traceback (most recent call last)",
      "\u001b[0;32m/tmp/ipykernel_100003/3694341277.py\u001b[0m in \u001b[0;36m<module>\u001b[0;34m\u001b[0m\n\u001b[1;32m     44\u001b[0m \u001b[0mquit\u001b[0m\u001b[0;34m(\u001b[0m\u001b[0;34m)\u001b[0m\u001b[0;34m\u001b[0m\u001b[0;34m\u001b[0m\u001b[0m\n\u001b[1;32m     45\u001b[0m \u001b[0;34m\u001b[0m\u001b[0m\n\u001b[0;32m---> 46\u001b[0;31m \u001b[0mobj_expr\u001b[0m \u001b[0;34m=\u001b[0m \u001b[0msum\u001b[0m\u001b[0;34m(\u001b[0m\u001b[0msum\u001b[0m\u001b[0;34m(\u001b[0m\u001b[0mmodel\u001b[0m\u001b[0;34m.\u001b[0m\u001b[0mc\u001b[0m\u001b[0;34m[\u001b[0m\u001b[0mj\u001b[0m\u001b[0;34m,\u001b[0m \u001b[0mi\u001b[0m\u001b[0;34m]\u001b[0m\u001b[0;34m*\u001b[0m\u001b[0mmodel\u001b[0m\u001b[0;34m.\u001b[0m\u001b[0my\u001b[0m\u001b[0;34m[\u001b[0m\u001b[0mj\u001b[0m\u001b[0;34m,\u001b[0m \u001b[0mi\u001b[0m\u001b[0;34m]\u001b[0m \u001b[0;32mfor\u001b[0m \u001b[0mi\u001b[0m \u001b[0;32min\u001b[0m \u001b[0mmodel\u001b[0m\u001b[0;34m.\u001b[0m\u001b[0mi\u001b[0m\u001b[0;34m)\u001b[0m \u001b[0;32mfor\u001b[0m \u001b[0mj\u001b[0m \u001b[0;32min\u001b[0m \u001b[0mmodel\u001b[0m\u001b[0;34m.\u001b[0m\u001b[0mj\u001b[0m\u001b[0;34m)\u001b[0m\u001b[0;34m\u001b[0m\u001b[0;34m\u001b[0m\u001b[0m\n\u001b[0m\u001b[1;32m     47\u001b[0m \u001b[0;34m\u001b[0m\u001b[0m\n\u001b[1;32m     48\u001b[0m \u001b[0mmodel\u001b[0m\u001b[0;34m.\u001b[0m\u001b[0mcost\u001b[0m \u001b[0;34m=\u001b[0m \u001b[0mObjective\u001b[0m\u001b[0;34m(\u001b[0m\u001b[0mexpr\u001b[0m \u001b[0;34m=\u001b[0m \u001b[0mobj_expr\u001b[0m\u001b[0;34m,\u001b[0m \u001b[0msense\u001b[0m\u001b[0;34m=\u001b[0m\u001b[0mminimize\u001b[0m\u001b[0;34m)\u001b[0m\u001b[0;34m\u001b[0m\u001b[0;34m\u001b[0m\u001b[0m\n",
      "\u001b[0;32m/tmp/ipykernel_100003/3694341277.py\u001b[0m in \u001b[0;36m<genexpr>\u001b[0;34m(.0)\u001b[0m\n\u001b[1;32m     44\u001b[0m \u001b[0mquit\u001b[0m\u001b[0;34m(\u001b[0m\u001b[0;34m)\u001b[0m\u001b[0;34m\u001b[0m\u001b[0;34m\u001b[0m\u001b[0m\n\u001b[1;32m     45\u001b[0m \u001b[0;34m\u001b[0m\u001b[0m\n\u001b[0;32m---> 46\u001b[0;31m \u001b[0mobj_expr\u001b[0m \u001b[0;34m=\u001b[0m \u001b[0msum\u001b[0m\u001b[0;34m(\u001b[0m\u001b[0msum\u001b[0m\u001b[0;34m(\u001b[0m\u001b[0mmodel\u001b[0m\u001b[0;34m.\u001b[0m\u001b[0mc\u001b[0m\u001b[0;34m[\u001b[0m\u001b[0mj\u001b[0m\u001b[0;34m,\u001b[0m \u001b[0mi\u001b[0m\u001b[0;34m]\u001b[0m\u001b[0;34m*\u001b[0m\u001b[0mmodel\u001b[0m\u001b[0;34m.\u001b[0m\u001b[0my\u001b[0m\u001b[0;34m[\u001b[0m\u001b[0mj\u001b[0m\u001b[0;34m,\u001b[0m \u001b[0mi\u001b[0m\u001b[0;34m]\u001b[0m \u001b[0;32mfor\u001b[0m \u001b[0mi\u001b[0m \u001b[0;32min\u001b[0m \u001b[0mmodel\u001b[0m\u001b[0;34m.\u001b[0m\u001b[0mi\u001b[0m\u001b[0;34m)\u001b[0m \u001b[0;32mfor\u001b[0m \u001b[0mj\u001b[0m \u001b[0;32min\u001b[0m \u001b[0mmodel\u001b[0m\u001b[0;34m.\u001b[0m\u001b[0mj\u001b[0m\u001b[0;34m)\u001b[0m\u001b[0;34m\u001b[0m\u001b[0;34m\u001b[0m\u001b[0m\n\u001b[0m\u001b[1;32m     47\u001b[0m \u001b[0;34m\u001b[0m\u001b[0m\n\u001b[1;32m     48\u001b[0m \u001b[0mmodel\u001b[0m\u001b[0;34m.\u001b[0m\u001b[0mcost\u001b[0m \u001b[0;34m=\u001b[0m \u001b[0mObjective\u001b[0m\u001b[0;34m(\u001b[0m\u001b[0mexpr\u001b[0m \u001b[0;34m=\u001b[0m \u001b[0mobj_expr\u001b[0m\u001b[0;34m,\u001b[0m \u001b[0msense\u001b[0m\u001b[0;34m=\u001b[0m\u001b[0mminimize\u001b[0m\u001b[0;34m)\u001b[0m\u001b[0;34m\u001b[0m\u001b[0;34m\u001b[0m\u001b[0m\n",
      "\u001b[0;32m/tmp/ipykernel_100003/3694341277.py\u001b[0m in \u001b[0;36m<genexpr>\u001b[0;34m(.0)\u001b[0m\n\u001b[1;32m     44\u001b[0m \u001b[0mquit\u001b[0m\u001b[0;34m(\u001b[0m\u001b[0;34m)\u001b[0m\u001b[0;34m\u001b[0m\u001b[0;34m\u001b[0m\u001b[0m\n\u001b[1;32m     45\u001b[0m \u001b[0;34m\u001b[0m\u001b[0m\n\u001b[0;32m---> 46\u001b[0;31m \u001b[0mobj_expr\u001b[0m \u001b[0;34m=\u001b[0m \u001b[0msum\u001b[0m\u001b[0;34m(\u001b[0m\u001b[0msum\u001b[0m\u001b[0;34m(\u001b[0m\u001b[0mmodel\u001b[0m\u001b[0;34m.\u001b[0m\u001b[0mc\u001b[0m\u001b[0;34m[\u001b[0m\u001b[0mj\u001b[0m\u001b[0;34m,\u001b[0m \u001b[0mi\u001b[0m\u001b[0;34m]\u001b[0m\u001b[0;34m*\u001b[0m\u001b[0mmodel\u001b[0m\u001b[0;34m.\u001b[0m\u001b[0my\u001b[0m\u001b[0;34m[\u001b[0m\u001b[0mj\u001b[0m\u001b[0;34m,\u001b[0m \u001b[0mi\u001b[0m\u001b[0;34m]\u001b[0m \u001b[0;32mfor\u001b[0m \u001b[0mi\u001b[0m \u001b[0;32min\u001b[0m \u001b[0mmodel\u001b[0m\u001b[0;34m.\u001b[0m\u001b[0mi\u001b[0m\u001b[0;34m)\u001b[0m \u001b[0;32mfor\u001b[0m \u001b[0mj\u001b[0m \u001b[0;32min\u001b[0m \u001b[0mmodel\u001b[0m\u001b[0;34m.\u001b[0m\u001b[0mj\u001b[0m\u001b[0;34m)\u001b[0m\u001b[0;34m\u001b[0m\u001b[0;34m\u001b[0m\u001b[0m\n\u001b[0m\u001b[1;32m     47\u001b[0m \u001b[0;34m\u001b[0m\u001b[0m\n\u001b[1;32m     48\u001b[0m \u001b[0mmodel\u001b[0m\u001b[0;34m.\u001b[0m\u001b[0mcost\u001b[0m \u001b[0;34m=\u001b[0m \u001b[0mObjective\u001b[0m\u001b[0;34m(\u001b[0m\u001b[0mexpr\u001b[0m \u001b[0;34m=\u001b[0m \u001b[0mobj_expr\u001b[0m\u001b[0;34m,\u001b[0m \u001b[0msense\u001b[0m\u001b[0;34m=\u001b[0m\u001b[0mminimize\u001b[0m\u001b[0;34m)\u001b[0m\u001b[0;34m\u001b[0m\u001b[0;34m\u001b[0m\u001b[0m\n",
      "\u001b[0;32m/usr/local/lib/python3.9/site-packages/pyomo/core/base/indexed_component.py\u001b[0m in \u001b[0;36m__getitem__\u001b[0;34m(self, index)\u001b[0m\n\u001b[1;32m    409\u001b[0m             \u001b[0;32mif\u001b[0m \u001b[0mindex\u001b[0m\u001b[0;34m.\u001b[0m\u001b[0m__class__\u001b[0m \u001b[0;32mis\u001b[0m \u001b[0mEXPR\u001b[0m\u001b[0;34m.\u001b[0m\u001b[0mGetItemExpression\u001b[0m\u001b[0;34m:\u001b[0m\u001b[0;34m\u001b[0m\u001b[0;34m\u001b[0m\u001b[0m\n\u001b[1;32m    410\u001b[0m                 \u001b[0;32mreturn\u001b[0m \u001b[0mindex\u001b[0m\u001b[0;34m\u001b[0m\u001b[0;34m\u001b[0m\u001b[0m\n\u001b[0;32m--> 411\u001b[0;31m             \u001b[0mvalidated_index\u001b[0m \u001b[0;34m=\u001b[0m \u001b[0mself\u001b[0m\u001b[0;34m.\u001b[0m\u001b[0m_validate_index\u001b[0m\u001b[0;34m(\u001b[0m\u001b[0mindex\u001b[0m\u001b[0;34m)\u001b[0m\u001b[0;34m\u001b[0m\u001b[0;34m\u001b[0m\u001b[0m\n\u001b[0m\u001b[1;32m    412\u001b[0m             \u001b[0;32mif\u001b[0m \u001b[0mvalidated_index\u001b[0m \u001b[0;32mis\u001b[0m \u001b[0;32mnot\u001b[0m \u001b[0mindex\u001b[0m\u001b[0;34m:\u001b[0m\u001b[0;34m\u001b[0m\u001b[0;34m\u001b[0m\u001b[0m\n\u001b[1;32m    413\u001b[0m                 \u001b[0mindex\u001b[0m \u001b[0;34m=\u001b[0m \u001b[0mvalidated_index\u001b[0m\u001b[0;34m\u001b[0m\u001b[0;34m\u001b[0m\u001b[0m\n",
      "\u001b[0;32m/usr/local/lib/python3.9/site-packages/pyomo/core/base/indexed_component.py\u001b[0m in \u001b[0;36m_validate_index\u001b[0;34m(self, idx)\u001b[0m\n\u001b[1;32m    568\u001b[0m         \u001b[0;31m# Raise an exception\u001b[0m\u001b[0;34m\u001b[0m\u001b[0;34m\u001b[0m\u001b[0;34m\u001b[0m\u001b[0m\n\u001b[1;32m    569\u001b[0m         \u001b[0;31m#\u001b[0m\u001b[0;34m\u001b[0m\u001b[0;34m\u001b[0m\u001b[0;34m\u001b[0m\u001b[0m\n\u001b[0;32m--> 570\u001b[0;31m         raise KeyError(\n\u001b[0m\u001b[1;32m    571\u001b[0m             \u001b[0;34m\"Index '%s' is not valid for indexed component '%s'\"\u001b[0m\u001b[0;34m\u001b[0m\u001b[0;34m\u001b[0m\u001b[0m\n\u001b[1;32m    572\u001b[0m             % ( idx, self.name, ))\n",
      "\u001b[0;31mKeyError\u001b[0m: \"Index '('Padova', 'La Spezia')' is not valid for indexed component 'c'\""
     ]
    }
   ],
   "source": [
    "from pyomo.environ import *\n",
    "from pyomo.opt import SolverStatus, TerminationCondition\n",
    "import numpy as np\n",
    "\n",
    "model = ConcreteModel()\n",
    "model.dual = Suffix(direction=Suffix.IMPORT)\n",
    "\n",
    "i = [ 'La Spezia', 'Trieste', 'Ancona', 'Napoli', 'Bari' ]\n",
    "m = [ 20, 15, 25, 33, 21 ]\n",
    "\n",
    "j = [ 'Padova', 'Arezzo', 'Roma', 'Teramo', 'Lecce', 'Catanzaro' ]\n",
    "r = [ 10, 12, 20, 24, 18, 40 ]\n",
    "\n",
    "c = [[ 8700,  3450, 10650, 21450, 24300],\n",
    "     [11400, 10200,  4950, 11400, 18300],\n",
    "     [15150, 15900,  8550,  6600, 13500],\n",
    "     [19650, 13500,  4650,  7200,  9450], \n",
    "     [30300, 25200, 16500,  9150,  2850], \n",
    "     [32160, 32910, 22410, 11160,  9990]]\n",
    "\n",
    "c = np.array(c, dtype=np.float32).T\n",
    "\n",
    "model.i = Set(initialize=i)\n",
    "model.j = Set(initialize=j)\n",
    "\n",
    "c_dict = {}\n",
    "for i, mi in enumerate(model.i):\n",
    "    for j, mj in enumerate(model.j):\n",
    "        c_dict[mi, mj] = c[i][j]\n",
    "\n",
    "m = {mi: m[i] for i, mi in enumerate(model.i)}\n",
    "r = {mj: r[j] for j, mj in enumerate(model.j)}\n",
    "\n",
    "model.m = Param(model.i, initialize=m)\n",
    "model.r = Param(model.j, initialize=r)\n",
    "\n",
    "model.c = Param(model.i, model.j, initialize=c_dict)\n",
    "\n",
    "model.x = Var(model.i, model.j, domain=NonNegativeIntegers, initialize=0)\n",
    "model.y = Var(model.i, model.j, domain=NonNegativeIntegers, initialize=0)\n",
    "\n",
    "model.pprint()\n",
    "\n",
    "obj_expr = sum(sum(model.c[i, j]*model.y[i, j] for i in model.i) for j in model.j)\n",
    "\n",
    "model.cost = Objective(expr = obj_expr, sense=minimize)\n",
    "\n",
    "model.constraints = ConstraintList()\n",
    "\n",
    "for i in model.i:\n",
    "    model.constraints.add(expr = sum(model.x[i, j] for j in model.j) <= disp_magazzini[i])\n",
    "\n",
    "for j in model.j:\n",
    "    model.constraints.add(expr = sum(model.x[i, j] for i in model.i) >= rich_porti[j])\n",
    "\n",
    "for j in model.j:\n",
    "    for i in model.i:\n",
    "        model.constraints.add(expr = 2*model.y[i, j] >= model.x[i, j])\n",
    "\n",
    "#result = SolverFactory('glpk').solve(model, tee=True).write()\n",
    "\n",
    "model.pprint()\n",
    "\n",
    "#results = SolverFactory('glpk').solve(model, tee=True)\n",
    "\n",
    "print (\"The solver returned a status of: \"+str(results.solver.status))\n",
    "\n",
    "#model.pprint()\n",
    "model.display() \n",
    "\n",
    "for v in model.component_data_objects(Var, active=True):\n",
    "    print(v, value(v)) \n",
    "\n",
    "print(value(model.cost))"
   ]
  },
  {
   "cell_type": "code",
   "execution_count": null,
   "metadata": {},
   "outputs": [],
   "source": []
  }
 ]
}