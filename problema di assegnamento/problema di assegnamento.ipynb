{
 "metadata": {
  "language_info": {
   "codemirror_mode": {
    "name": "ipython",
    "version": 3
   },
   "file_extension": ".py",
   "mimetype": "text/x-python",
   "name": "python",
   "nbconvert_exporter": "python",
   "pygments_lexer": "ipython3",
   "version": "3.9.6"
  },
  "orig_nbformat": 4,
  "kernelspec": {
   "name": "python3",
   "display_name": "Python 3.9.6 64-bit"
  },
  "interpreter": {
   "hash": "4cd7ab41f5fca4b9b44701077e38c5ffd31fe66a6cab21e0214b68d958d0e462"
  }
 },
 "nbformat": 4,
 "nbformat_minor": 2,
 "cells": [
  {
   "source": [
    "# problema di assegnamento\n",
    "\n",
    "Un sistema multiprocessore con 3 CPU (A,B e C) deve eseguire 3 processi (1,2 e 3). \n",
    "\n",
    "Ogni processo richiede 10 ms di CPU time e può essere frazionato tra le CPU ma ogni CPU è disponibile per una quantità di tempo al massimo pari a 10 ms.\n",
    "\n",
    "Date le differenti caratteristiche delle CPU, i costi unitari di processamento dipendono dalla coppia processo-CPU (vedi tabella).\n",
    "\n",
    "![tab](./tab.png)\n",
    "\n",
    "Come assegnare i processi alle CPU in modo da minimizzare il costo totale?\n"
   ],
   "cell_type": "markdown",
   "metadata": {}
  },
  {
   "source": [
    "## formulazione generale\n",
    "\n",
    "Due insiemi A e B sono costituiti ognuno da n elementi.\n",
    "\n",
    "Ogni elemento di A deve essere assegnato a un elemento di B (o frazionato tra più elementi di B);\n",
    "\n",
    "a ogni elemento di B può essere assegnato al più un elemento di A (o frazioni di elementi di A che sommano 1).\n",
    "\n",
    "Assegnare l’elemento $i\\in A$ all’elemento $j\\in B$ costa $c_{ij}$.\n",
    "\n",
    "Qual è l’assegnamento di costo minimo?\n"
   ],
   "cell_type": "markdown",
   "metadata": {}
  },
  {
   "source": [
    "## modello parametrico\n",
    "\n",
    "![param1](param1.png)\n",
    "\n",
    "![param2](param2.png)"
   ],
   "cell_type": "markdown",
   "metadata": {}
  },
  {
   "source": [
    "### caso in cui gli elementi di A non siano frazionabili\n",
    "\n",
    "![param3](param3.png)\n",
    "\n",
    "![param4](param4.png)\n",
    "\n",
    "![param5](param5.png)\n",
    "\n",
    "![param6](param6.png)"
   ],
   "cell_type": "markdown",
   "metadata": {}
  },
  {
   "cell_type": "code",
   "execution_count": 6,
   "metadata": {},
   "outputs": [
    {
     "output_type": "stream",
     "name": "stdout",
     "text": [
      "Model problema di trasporto\n\n  Variables:\n    x : Size=9, Index=x_index\n        Key             : Lower : Value : Upper : Fixed : Stale : Domain\n        ('pr1', 'cpuA') :     0 :   1.0 :     1 : False : False : Boolean\n        ('pr1', 'cpuB') :     0 :   0.0 :     1 : False : False : Boolean\n        ('pr1', 'cpuC') :     0 :   0.0 :     1 : False : False : Boolean\n        ('pr2', 'cpuA') :     0 :   0.0 :     1 : False : False : Boolean\n        ('pr2', 'cpuB') :     0 :   1.0 :     1 : False : False : Boolean\n        ('pr2', 'cpuC') :     0 :   0.0 :     1 : False : False : Boolean\n        ('pr3', 'cpuA') :     0 :   0.0 :     1 : False : False : Boolean\n        ('pr3', 'cpuB') :     0 :   0.0 :     1 : False : False : Boolean\n        ('pr3', 'cpuC') :     0 :   1.0 :     1 : False : False : Boolean\n\n  Objectives:\n    cost : Size=1, Index=None, Active=True\n        Key  : Active : Value\n        None :   True :  25.0\n\n  Constraints:\n    constraints : Size=6\n        Key : Lower : Body : Upper\n          1 :   1.0 :  1.0 :   1.0\n          2 :   1.0 :  1.0 :   1.0\n          3 :   1.0 :  1.0 :   1.0\n          4 :   1.0 :  1.0 :   1.0\n          5 :   1.0 :  1.0 :   1.0\n          6 :   1.0 :  1.0 :   1.0\n"
     ]
    }
   ],
   "source": [
    "from pyomo.environ import *\n",
    "model = ConcreteModel('problema di trasporto')\n",
    "\n",
    "i = [ 'pr1', 'pr2', 'pr3' ]\n",
    "\n",
    "j = [ 'cpuA', 'cpuB', 'cpuC' ]\n",
    "\n",
    "c = [[ 7, 11,  9],\n",
    "     [ 8, 10, 12],\n",
    "     [13, 12,  8]]\n",
    "\n",
    "model.i = Set(initialize=i)\n",
    "model.j = Set(initialize=j)\n",
    "\n",
    "c_dict = {}\n",
    "for i, mi in enumerate(model.i):\n",
    "    for j, mj in enumerate(model.j):\n",
    "        c_dict[mi, mj] = c[i][j]\n",
    "\n",
    "model.c = Param(model.i, model.j, initialize=c_dict)\n",
    "\n",
    "model.x = Var(model.i, model.j, domain=Boolean, initialize=0)\n",
    "\n",
    "obj_expr = sum(sum(model.c[i, j]*model.x[i, j] for j in model.j) for i in model.i)\n",
    "model.cost = Objective(expr = obj_expr, sense=minimize)\n",
    "\n",
    "model.constraints = ConstraintList()\n",
    "for i in model.i:\n",
    "    model.constraints.add(expr = sum(model.x[i, j] for j in model.j) == 1)\n",
    "\n",
    "for j in model.j:\n",
    "    model.constraints.add(expr = sum(model.x[i, j] for i in model.i) == 1)\n",
    "\n",
    "SolverFactory('glpk').solve(model)\n",
    "model.display()"
   ]
  },
  {
   "cell_type": "code",
   "execution_count": null,
   "metadata": {},
   "outputs": [],
   "source": []
  }
 ]
}