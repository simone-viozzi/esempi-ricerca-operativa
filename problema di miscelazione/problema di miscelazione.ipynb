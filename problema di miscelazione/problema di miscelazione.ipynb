{
 "metadata": {
  "language_info": {
   "codemirror_mode": {
    "name": "ipython",
    "version": 3
   },
   "file_extension": ".py",
   "mimetype": "text/x-python",
   "name": "python",
   "nbconvert_exporter": "python",
   "pygments_lexer": "ipython3",
   "version": "3.9.6"
  },
  "orig_nbformat": 4,
  "kernelspec": {
   "name": "python3",
   "display_name": "Python 3.9.6 64-bit ('local')"
  },
  "interpreter": {
   "hash": "4cd7ab41f5fca4b9b44701077e38c5ffd31fe66a6cab21e0214b68d958d0e462"
  }
 },
 "nbformat": 4,
 "nbformat_minor": 2,
 "cells": [
  {
   "source": [
    "# problema di miscelazione\n",
    "\n",
    "Si vuole produrre un nuovo tipo di latte ottenuto miscelando le varietà di latte L1, L2 e L3 provenienti da tre diverse fattorie. Ogni varietà ha una composizione specifica di sostanze e un costo dato (vedi tabella).\n",
    "\n",
    "La nuova miscela deve avere le caratteristiche nutrizionali minime (espresse in g/litro di ogni sostanza) riportate nell’ultima colonna della tabella.\n",
    "\n",
    "![tab](./tab.png)\n",
    "\n",
    "Qual è la composizione delle varietà di latte che costituisce la miscela richiesta di costo minimo?\n"
   ],
   "cell_type": "markdown",
   "metadata": {}
  },
  {
   "source": [
    "## modello parametrico\n",
    "\n",
    "![param](./param.png)\n",
    "\n",
    "![param2](./param2.png)\n",
    "\n",
    "![param3](./param3.png)"
   ],
   "cell_type": "markdown",
   "metadata": {}
  },
  {
   "cell_type": "code",
   "execution_count": 3,
   "metadata": {},
   "outputs": [
    {
     "output_type": "stream",
     "name": "stdout",
     "text": [
      "Model problema di miscelazione\n\n  Variables:\n    x : Size=3, Index=i\n        Key : Lower : Value              : Upper : Fixed : Stale : Domain\n         L1 :     0 :  0.555555555555553 :  None : False : False : NonNegativeReals\n         L2 :     0 :   0.38888888888889 :  None : False : False : NonNegativeReals\n         L3 :     0 : 0.0555555555555566 :  None : False : False : NonNegativeReals\n\n  Objectives:\n    cost : Size=1, Index=None, Active=True\n        Key  : Active : Value\n        None :   True : 0.5333333333333332\n\n  Constraints:\n    constraints : Size=5\n        Key : Lower : Body               : Upper\n          1 :  32.0 :  32.61111111111111 :  None\n          2 :  45.0 :  44.99999999999997 :  None\n          3 :  36.0 :  35.99999999999999 :  None\n          4 :   1.3 :  1.327777777777778 :  None\n          5 :   1.0 : 0.9999999999999997 :   1.0\n"
     ]
    }
   ],
   "source": [
    "from pyomo.environ import *\n",
    "from pyomo.opt import SolverStatus, TerminationCondition\n",
    "\n",
    "model = ConcreteModel()\n",
    "model.name = \"problema di miscelazione\"\n",
    "\n",
    "i = [ 'L1', 'L2', 'L3' ]\n",
    "c = [ 0.5, 0.6, 0.4 ]\n",
    "\n",
    "j = [ 'proteine', 'grassi', 'carboidrati', 'calcio' ]\n",
    "b = [ 32, 45, 36, 1.3 ]\n",
    "\n",
    "a = [[31,   35,  32], \n",
    "     [48,   40,  50], \n",
    "     [35,   38,  32], \n",
    "     [1.2, 1.5, 1.4]]\n",
    "\n",
    "model.i = Set(initialize=i)\n",
    "model.j = Set(initialize=j)\n",
    "\n",
    "a_dict = {}\n",
    "for j, mj in enumerate(model.j):\n",
    "    for i, mi in enumerate(model.i):\n",
    "        a_dict[mj, mi] = a[j][i]\n",
    "\n",
    "c = {mi: c[i] for i, mi in enumerate(model.i)}\n",
    "b = {mj: b[j] for j, mj in enumerate(model.j)}\n",
    "\n",
    "model.c = Param(model.i, initialize=c)\n",
    "model.b = Param(model.j, initialize=b)\n",
    "\n",
    "model.a = Param(model.j, model.i, initialize=a_dict)\n",
    "\n",
    "model.x = Var(model.i, domain=NonNegativeReals, initialize=0)\n",
    "\n",
    "obj_expr = sum(model.c[i]*model.x[i] for i in model.i)\n",
    "\n",
    "model.cost = Objective(expr = obj_expr, sense=minimize)\n",
    "\n",
    "model.constraints = ConstraintList()\n",
    "\n",
    "for j in model.j:\n",
    "    model.constraints.add(expr = sum(model.a[j, i]*model.x[i] for i in model.i) >= model.b[j])\n",
    "\n",
    "model.constraints.add(expr = sum(model.x[i] for i in model.i) == 1)\n",
    "\n",
    "results = SolverFactory('glpk').solve(model)\n",
    "\n",
    "model.display()"
   ]
  },
  {
   "cell_type": "code",
   "execution_count": null,
   "metadata": {},
   "outputs": [],
   "source": []
  }
 ]
}