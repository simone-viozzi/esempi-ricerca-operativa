{
 "metadata": {
  "language_info": {
   "codemirror_mode": {
    "name": "ipython",
    "version": 3
   },
   "file_extension": ".py",
   "mimetype": "text/x-python",
   "name": "python",
   "nbconvert_exporter": "python",
   "pygments_lexer": "ipython3",
   "version": "3.9.6"
  },
  "orig_nbformat": 4,
  "kernelspec": {
   "name": "python3",
   "display_name": "Python 3.9.6 64-bit"
  },
  "interpreter": {
   "hash": "4cd7ab41f5fca4b9b44701077e38c5ffd31fe66a6cab21e0214b68d958d0e462"
  }
 },
 "nbformat": 4,
 "nbformat_minor": 2,
 "cells": [
  {
   "source": [
    "# un problema di mix produttivo\n",
    "\n",
    "La Ambrosoli S.p.A. produce due tipi di caramelle: Al Miele e Fior di Liquirizia. Le Al Miele sono vendute a 1€ al pacchetto, le Fior di Liquirizia a 1.5 €.\n",
    "\n",
    "L’azienda dispone di una linea in grado di produrre entrambi i tipi di caramelle, ma non contemporaneamente. Tuttavia i tempi di cambio produzione (changeover) sono trascurabili.\n",
    "\n",
    "La produttività del sistema è di 40 pacchetti/h di caramelle Al Miele e 30 pacchetti/h di caramelle Fior di Liquirizia.\n",
    "\n",
    "La settimana lavorativa è di 40 ore e l’azienda non fa magazzino.\n",
    "\n",
    "Da ricerche di marketing si scopre che il mercato è in grado di assorbire settimanalmente al massimo 1000 pacchetti di Al Miele e 900 pacchetti di Fior di Liquirizia.\n",
    "\n",
    "Quali sono i livelli di produzione dei due tipi di caramelle che massimizza il profitto dell’azienda?"
   ],
   "cell_type": "markdown",
   "metadata": {}
  },
  {
   "source": [
    "## modello di programmazione matematica\n",
    "\n",
    "$$ \n",
    "Z = \\max( M + 1.5L )\n",
    "$$\n",
    "$$\n",
    "\\begin{matrix}\n",
    "C1: & \\frac{1}{40}M & + & \\frac{1}{30}L & \\le 40 \\\\\n",
    "C2: & M &   &   & \\le 1000 \\\\\n",
    "C3: &   &   & L & \\le 900 \\\\\n",
    "C4: & M &  &   & \\ge 0 \\\\\n",
    "C5: &   &  & L & \\ge 0 \n",
    "\\end{matrix}\n",
    "$$"
   ],
   "cell_type": "markdown",
   "metadata": {}
  },
  {
   "source": [
    "## soluzione del modello di programmazione matematica"
   ],
   "cell_type": "markdown",
   "metadata": {}
  },
  {
   "cell_type": "code",
   "execution_count": 1,
   "metadata": {},
   "outputs": [
    {
     "output_type": "stream",
     "name": "stdout",
     "text": [
      "Z = 1750.0\nM = 400; L = 900\n"
     ]
    }
   ],
   "source": [
    "import glpk    \n",
    "\n",
    "lp = glpk.LPX()        \n",
    "lp.name = 'mix produttivo'   \n",
    "\n",
    "lp.obj.maximize = True \n",
    "lp.rows.add(1)         \n",
    "\n",
    "lp.rows[0].name = 'h totali'\n",
    "\n",
    "lp.rows[0].bounds = (None, 40.0)\n",
    "\n",
    "lp.cols.add(2)\n",
    "\n",
    "lp.cols[0].name = 'M'\n",
    "lp.cols[1].name = 'L'\n",
    "\n",
    "lp.cols[0].bounds = (0.0, 1000)\n",
    "lp.cols[1].bounds = (0.0, 900)\n",
    "\n",
    "lp.cols[0].kind = int\n",
    "lp.cols[1].kind = int\n",
    "\n",
    "lp.obj[:] = [ 1.0, 1.5 ]\n",
    "\n",
    "lp.matrix = [ 1/40, 1/30]\n",
    "\n",
    "lp.simplex()\n",
    "lp.integer() # -> per ottenere soluzioni intere\n",
    "\n",
    "print(f'Z = {lp.obj.value}') # Retrieve and print obj func value\n",
    "print('; '.join('%s = %g' % (c.name, c.primal) for c in lp.cols))"
   ]
  },
  {
   "cell_type": "code",
   "execution_count": null,
   "metadata": {},
   "outputs": [],
   "source": []
  }
 ]
}