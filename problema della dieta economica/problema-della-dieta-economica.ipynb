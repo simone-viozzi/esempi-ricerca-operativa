{
 "metadata": {
  "language_info": {
   "codemirror_mode": {
    "name": "ipython",
    "version": 3
   },
   "file_extension": ".py",
   "mimetype": "text/x-python",
   "name": "python",
   "nbconvert_exporter": "python",
   "pygments_lexer": "ipython3",
   "version": "3.9.6"
  },
  "orig_nbformat": 4,
  "kernelspec": {
   "name": "python3",
   "display_name": "Python 3.9.6 64-bit ('local')"
  },
  "interpreter": {
   "hash": "4cd7ab41f5fca4b9b44701077e38c5ffd31fe66a6cab21e0214b68d958d0e462"
  }
 },
 "nbformat": 4,
 "nbformat_minor": 2,
 "cells": [
  {
   "source": [
    "# problema della dieta economica\n",
    "\n",
    "Si dispone di un certo numero di alimenti e di ognuno si conosce il costo per porzione e la composizione in termini di sostanze nutritive.\n",
    "\n",
    "![tab](./tab.png)\n",
    "\n",
    "Di ogni sostanza nutritiva è nota la quantità minima richiesta in un dato periodo.\n",
    "\n",
    "Quali alimenti acquistare e in quali quantità in modo da garantire il fabbisogno nutrizionale del periodo e minimizzare il costo ?"
   ],
   "cell_type": "markdown",
   "metadata": {}
  },
  {
   "source": [
    "# modello parametrico\n",
    "\n",
    "![param](./param.png)\n",
    "\n",
    "\n",
    "![param1](./param1.png)"
   ],
   "cell_type": "markdown",
   "metadata": {}
  },
  {
   "cell_type": "code",
   "execution_count": 23,
   "metadata": {},
   "outputs": [
    {
     "output_type": "stream",
     "name": "stdout",
     "text": [
      "Model unknown\n\n  Variables:\n    x : Size=5, Index=i\n        Key   : Lower : Value            : Upper : Fixed : Stale : Domain\n        carne :     0 :              0.0 :  None : False : False : NonNegativeReals\n        dolce :     0 :              0.0 :  None : False : False : NonNegativeReals\n        latte :     0 : 2.35256203673864 :  None : False : False : NonNegativeReals\n         pane :     0 : 14.7599097647438 :  None : False : False : NonNegativeReals\n         uova :     0 :              0.0 :  None : False : False : NonNegativeReals\n\n  Objectives:\n    cost : Size=1, Index=None, Active=True\n        Key  : Active : Value\n        None :   True : 36.57750563970352\n\n  Constraints:\n    constraints : Size=3\n        Key : Lower  : Body               : Upper\n          1 : 2000.0 : 2000.0000000000002 :  None\n          2 :   50.0 :  77.86013535288431 :  None\n          3 :  700.0 :              700.0 :  None\n"
     ]
    }
   ],
   "source": [
    "from pyomo.environ import *\n",
    "from pyomo.opt import SolverStatus, TerminationCondition\n",
    "\n",
    "model = ConcreteModel()\n",
    "model.dual = Suffix(direction=Suffix.IMPORT)\n",
    "\n",
    "i = ['pane', 'latte', 'uova', 'carne', 'dolce']\n",
    "c = [2, 3, 4, 19, 20]\n",
    "\n",
    "j = ['calorie', 'proteine', 'calcio']\n",
    "b = [2000, 50, 700]\n",
    "\n",
    "a = [[110, 160, 180, 160, 420], \n",
    "    [4, 8, 13, 14, 4], \n",
    "    [2, 285, 54, 80, 22]]\n",
    "\n",
    "model.i = Set(initialize=i)\n",
    "model.j = Set(initialize=j)\n",
    "\n",
    "a_dict = {}\n",
    "for j, mj in enumerate(model.j):\n",
    "    for i, mi in enumerate(model.i):\n",
    "        a_dict[mj, mi] = a[j][i]\n",
    "\n",
    "c = {mi: c[i] for i, mi in enumerate(model.i)}\n",
    "b = {mj: b[j] for j, mj in enumerate(model.j)}\n",
    "\n",
    "model.c = Param(model.i, initialize=c)\n",
    "model.b = Param(model.j, initialize=b)\n",
    "\n",
    "model.a = Param(model.j, model.i, initialize=a_dict)\n",
    "\n",
    "model.x = Var(model.i, domain=NonNegativeReals, initialize=0)\n",
    "\n",
    "obj_expr = sum(model.c[i]*model.x[i] for i in model.i)\n",
    "\n",
    "model.cost = Objective(expr = obj_expr, sense=minimize)\n",
    "\n",
    "model.constraints = ConstraintList()\n",
    "\n",
    "for j in model.j:\n",
    "    model.constraints.add(expr = sum(model.a[j, i]*model.x[i] for i in model.i) >= model.b[j])\n",
    "\n",
    "results = SolverFactory('glpk').solve(model)\n",
    "\n",
    "model.display()"
   ]
  },
  {
   "cell_type": "code",
   "execution_count": null,
   "metadata": {},
   "outputs": [],
   "source": []
  }
 ]
}