{
 "metadata": {
  "language_info": {
   "codemirror_mode": {
    "name": "ipython",
    "version": 3
   },
   "file_extension": ".py",
   "mimetype": "text/x-python",
   "name": "python",
   "nbconvert_exporter": "python",
   "pygments_lexer": "ipython3",
   "version": "3.9.6"
  },
  "orig_nbformat": 4,
  "kernelspec": {
   "name": "python3",
   "display_name": "Python 3.9.6 64-bit ('local')"
  },
  "interpreter": {
   "hash": "4cd7ab41f5fca4b9b44701077e38c5ffd31fe66a6cab21e0214b68d958d0e462"
  }
 },
 "nbformat": 4,
 "nbformat_minor": 2,
 "cells": [
  {
   "source": [
    "# mix produttivo\n",
    "\n",
    "Un’azienda utilizza tre reparti (1, 2 e 3) per produrre due composti (A e B).\n",
    "\n",
    "Ogni kg di A e B richiede un dato numero di ore di lavorazione in ciascun reparto e ogni reparto ha una data capacità produttiva, ossia è disponibile per un certo numero di ore al giorno (vedi schema).\n",
    "\n",
    "![img](./img.png)\n",
    "\n",
    "![tab](./tab.png)\n",
    "\n",
    "Considerato che ogni composto ha un dato prezzo di vendita al kg (ultima colonna della tabella), qual è la produzione di A e B che, nel rispetto delle capacità produttive dei reparti, massimizza il profitto dell’azienda?\n"
   ],
   "cell_type": "markdown",
   "metadata": {}
  },
  {
   "source": [
    "## formulazione generale del problema di mix produttivo\n",
    "\n",
    "Un’azienda produce n articoli $P_1$,...,$P_n$ utilizzando un impianto con $m$ reparti $R_1$,...,$R_m$.\n",
    "\n",
    "Ogni unità dell’articolo $P_i$ assicura all’azienda un profitto netto di $p_i$ € e richiede $a_{ij}$ ore di lavorazione nel reparto $R_j$.\n",
    "\n",
    "Qual è il mix produttivo giornaliero più redditizio per l’azienda, cioè quali sono le quantità di ogni articolo che l’azienda deve produrre per massimizzare il profitto rispettando le capacità produttive dei reparti?\n"
   ],
   "cell_type": "markdown",
   "metadata": {}
  },
  {
   "source": [
    "## modello parametrico\n",
    "\n",
    "![param1](./param1.png)\n",
    "\n",
    "![param2](./param2.png)"
   ],
   "cell_type": "markdown",
   "metadata": {}
  },
  {
   "cell_type": "code",
   "execution_count": 3,
   "metadata": {},
   "outputs": [
    {
     "output_type": "stream",
     "name": "stdout",
     "text": [
      "Model mix produttivo\n\n  Variables:\n    x : Size=2, Index=i\n        Key        : Lower : Value            : Upper : Fixed : Stale : Domain\n        composto A :     0 : 2.14285714285714 :  None : False : False : NonNegativeReals\n        composto B :     0 : 1.57142857142857 :  None : False : False : NonNegativeReals\n\n  Objectives:\n    cost : Size=1, Index=None, Active=True\n        Key  : Active : Value\n        None :   True : 16.999999999999982\n\n  Constraints:\n    constraints : Size=3\n        Key : Lower : Body             : Upper\n          1 :  None : 8.99999999999999 :   9.0\n          2 :  None : 5.28571428571428 :  10.0\n          3 :  None : 7.99999999999999 :   8.0\n"
     ]
    }
   ],
   "source": [
    "from pyomo.environ import *\n",
    "from pyomo.opt import SolverStatus, TerminationCondition\n",
    "\n",
    "model = ConcreteModel()\n",
    "model.name = \"mix produttivo\"\n",
    "\n",
    "i = [ 'composto A', 'composto B' ]\n",
    "p = [            5,             4]\n",
    "\n",
    "j = [ 'rep 1', 'rep 2', 'rep 3']\n",
    "b = [       9,      10,       8]\n",
    "\n",
    "a = [[2, 3], \n",
    "     [1, 2], \n",
    "     [3, 1]]\n",
    "\n",
    "model.i = Set(initialize=i)\n",
    "model.j = Set(initialize=j)\n",
    "\n",
    "a_dict = {}\n",
    "for j, mj in enumerate(model.j):\n",
    "    for i, mi in enumerate(model.i):\n",
    "        a_dict[mj, mi] = a[j][i]\n",
    "\n",
    "p = {mi: p[i] for i, mi in enumerate(model.i)}\n",
    "b = {mj: b[j] for j, mj in enumerate(model.j)}\n",
    "\n",
    "model.p = Param(model.i, initialize=p)\n",
    "model.b = Param(model.j, initialize=b)\n",
    "\n",
    "model.a = Param(model.j, model.i, initialize=a_dict)\n",
    "\n",
    "model.x = Var(model.i, domain=NonNegativeReals, initialize=0)\n",
    "\n",
    "obj_expr = sum(model.p[i]*model.x[i] for i in model.i)\n",
    "\n",
    "model.cost = Objective(expr = obj_expr, sense=maximize)\n",
    "\n",
    "model.constraints = ConstraintList()\n",
    "\n",
    "for j in model.j:\n",
    "    model.constraints.add(expr = sum(model.a[j, i]*model.x[i] for i in model.i) <= model.b[j])\n",
    "\n",
    "results = SolverFactory('glpk').solve(model)\n",
    "\n",
    "model.display()\n"
   ]
  }
 ]
}