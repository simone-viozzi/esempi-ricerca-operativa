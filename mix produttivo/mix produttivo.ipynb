{
 "metadata": {
  "language_info": {
   "codemirror_mode": {
    "name": "ipython",
    "version": 3
   },
   "file_extension": ".py",
   "mimetype": "text/x-python",
   "name": "python",
   "nbconvert_exporter": "python",
   "pygments_lexer": "ipython3",
   "version": 3
  },
  "orig_nbformat": 4
 },
 "nbformat": 4,
 "nbformat_minor": 2,
 "cells": [
  {
   "source": [
    "# mix produttivo\n",
    "\n",
    "Un’azienda utilizza tre reparti (1, 2 e 3) per produrre due composti (A e B).\n",
    "\n",
    "Ogni kg di A e B richiede un dato numero di ore di lavorazione in ciascun reparto e ogni reparto ha una data capacità produttiva, ossia è disponibile per un certo numero di ore al giorno (vedi schema).\n",
    "\n",
    "![img](./img.png)\n",
    "\n",
    "![tab](./tab.png)\n",
    "\n",
    "Considerato che ogni composto ha un dato prezzo di vendita al kg (ultima colonna della tabella), qual è la produzione di A e B che, nel rispetto delle capacità produttive dei reparti, massimizza il profitto dell’azienda?\n"
   ],
   "cell_type": "markdown",
   "metadata": {}
  },
  {
   "source": [
    "## formulazione generale del problema di mix produttivo\n",
    "\n",
    "Un’azienda produce n articoli $P_1$,...,$P_n$ utilizzando un impianto con $m$ reparti $R_1$,...,$R_m$.\n",
    "\n",
    "Ogni unità dell’articolo $P_i$ assicura all’azienda un profitto netto di $p_i$ € e richiede $a_{ij}$ ore di lavorazione nel reparto $R_j$.\n",
    "\n",
    "Qual è il mix produttivo giornaliero più redditizio per l’azienda, cioè quali sono le quantità di ogni articolo che l’azienda deve produrre per massimizzare il profitto rispettando le capacità produttive dei reparti?\n"
   ],
   "cell_type": "markdown",
   "metadata": {}
  },
  {
   "source": [
    "## modello parametrico\n",
    "\n",
    "![param1](./param1.png)\n",
    "\n",
    "![param2](./param2.png)"
   ],
   "cell_type": "markdown",
   "metadata": {}
  },
  {
   "cell_type": "code",
   "execution_count": null,
   "metadata": {},
   "outputs": [],
   "source": []
  }
 ]
}