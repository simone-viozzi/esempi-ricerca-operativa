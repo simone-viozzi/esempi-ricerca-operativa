{
 "metadata": {
  "language_info": {
   "codemirror_mode": {
    "name": "ipython",
    "version": 3
   },
   "file_extension": ".py",
   "mimetype": "text/x-python",
   "name": "python",
   "nbconvert_exporter": "python",
   "pygments_lexer": "ipython3",
   "version": 3
  },
  "orig_nbformat": 4
 },
 "nbformat": 4,
 "nbformat_minor": 2,
 "cells": [
  {
   "source": [
    "# problema di trasporto 2\n",
    "\n",
    "Due depositi (A e B) di carburante riforniscono tre distributori (1,2 e 3).\n",
    "\n",
    "Ogni deposito ha una disponibilità limitata di carburante e ogni distributore ha una richiesta nota.\n",
    "\n",
    "I costi di trasporto tra depositi e distributori dipende dalla distanza e dalla quantità di carburante\n",
    "\n",
    "![img](./img.png)\n",
    "\n",
    "![tab](./tab.png)\n",
    "\n",
    "Quanto carburante inviare da ogni deposito a ogni distributore in modo da soddisfare tutte le richieste al costo minimo?\n"
   ],
   "cell_type": "markdown",
   "metadata": {}
  },
  {
   "source": [
    "## formulazione generale\n",
    "\n",
    "Una rete logistica (single-commodity) è formata da n sorgenti $S_1$,...,$S_n$ e $m$ destinazioni $T_1$ ,...,$T_m$.\n",
    "\n",
    "Dati la disponibilità di prodotto di ogni sorgente, la richiesta di prodotto di ogni destinazione e il costo unitario di trasporto per ogni coppia sorgente-destinazione, quanto prodotto trasportare da ogni sorgente a ogni destinazione in modo da rispettare le disponibilità delle sorgenti e soddisfare le richieste delle destinazioni al costo minimo?"
   ],
   "cell_type": "markdown",
   "metadata": {}
  },
  {
   "source": [
    "## modello parametrico\n",
    "\n",
    "![param](./param.png)\n",
    "\n",
    "![param2](./param2.png)"
   ],
   "cell_type": "markdown",
   "metadata": {}
  },
  {
   "source": [
    "from pyomo.environ import *\n",
    "from pyomo.opt import SolverStatus, TerminationCondition\n",
    "\n",
    "model = ConcreteModel()\n",
    "model.name = \"problema di miscelazione\"\n",
    "\n",
    "i = [ 'deposito A', 'deposito B' ]\n",
    "d = [ 1000, 1400 ]\n",
    "\n",
    "j = [ 'milano', 'roma', 'napoli' ]\n",
    "b = [ 800, 700, 900 ]\n",
    "\n",
    "a = [[13,   11,  16], \n",
    "     [12,   15,  14]]"
   ],
   "cell_type": "code",
   "metadata": {},
   "execution_count": null,
   "outputs": []
  }
 ]
}