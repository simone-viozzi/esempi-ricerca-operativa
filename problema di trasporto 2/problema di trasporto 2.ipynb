{
 "metadata": {
  "language_info": {
   "codemirror_mode": {
    "name": "ipython",
    "version": 3
   },
   "file_extension": ".py",
   "mimetype": "text/x-python",
   "name": "python",
   "nbconvert_exporter": "python",
   "pygments_lexer": "ipython3",
   "version": "3.9.6"
  },
  "orig_nbformat": 4,
  "kernelspec": {
   "name": "python3",
   "display_name": "Python 3.9.6 64-bit ('local')"
  },
  "interpreter": {
   "hash": "4cd7ab41f5fca4b9b44701077e38c5ffd31fe66a6cab21e0214b68d958d0e462"
  }
 },
 "nbformat": 4,
 "nbformat_minor": 2,
 "cells": [
  {
   "source": [
    "# problema di trasporto 2\n",
    "\n",
    "Due depositi (A e B) di carburante riforniscono tre distributori (1,2 e 3).\n",
    "\n",
    "Ogni deposito ha una disponibilità limitata di carburante e ogni distributore ha una richiesta nota.\n",
    "\n",
    "I costi di trasporto tra depositi e distributori dipende dalla distanza e dalla quantità di carburante\n",
    "\n",
    "![img](./img.png)\n",
    "\n",
    "![tab](./tab.png)\n",
    "\n",
    "Quanto carburante inviare da ogni deposito a ogni distributore in modo da soddisfare tutte le richieste al costo minimo?\n"
   ],
   "cell_type": "markdown",
   "metadata": {}
  },
  {
   "source": [
    "## formulazione generale\n",
    "\n",
    "Una rete logistica (single-commodity) è formata da n sorgenti $S_1$,...,$S_n$ e $m$ destinazioni $T_1$ ,...,$T_m$.\n",
    "\n",
    "Dati la disponibilità di prodotto di ogni sorgente, la richiesta di prodotto di ogni destinazione e il costo unitario di trasporto per ogni coppia sorgente-destinazione, quanto prodotto trasportare da ogni sorgente a ogni destinazione in modo da rispettare le disponibilità delle sorgenti e soddisfare le richieste delle destinazioni al costo minimo?"
   ],
   "cell_type": "markdown",
   "metadata": {}
  },
  {
   "source": [
    "## modello parametrico\n",
    "\n",
    "![param](./param.png)\n",
    "\n",
    "![param2](./param2.png)"
   ],
   "cell_type": "markdown",
   "metadata": {}
  },
  {
   "source": [
    "from pyomo.environ import *\n",
    "from pyomo.opt import SolverStatus, TerminationCondition\n",
    "\n",
    "model = ConcreteModel()\n",
    "model.name = \"problema di miscelazione\"\n",
    "\n",
    "i = [ 'deposito A', 'deposito B' ]\n",
    "d = [ 1000, 1400 ]\n",
    "\n",
    "j = [ 'milano', 'roma', 'napoli' ]\n",
    "r = [ 800, 700, 900 ]\n",
    "\n",
    "c = [[13,   11,  16], \n",
    "     [12,   15,  14]]\n",
    "\n",
    "model.i = Set(initialize=i)\n",
    "model.j = Set(initialize=j)\n",
    "\n",
    "c_dict = {}\n",
    "for i, mi in enumerate(model.i):\n",
    "    for j, mj in enumerate(model.j):\n",
    "        c_dict[mi, mj] = c[i][j]\n",
    "\n",
    "d = {mi: d[i] for i, mi in enumerate(model.i)}\n",
    "r = {mj: r[j] for j, mj in enumerate(model.j)}\n",
    "\n",
    "model.d = Param(model.i, initialize=d)\n",
    "model.r = Param(model.j, initialize=r)\n",
    "\n",
    "model.c = Param(model.i, model.j, initialize=c_dict)\n",
    "\n",
    "model.x = Var(model.i, model.j, domain=NonNegativeReals, initialize=0)\n",
    "\n",
    "obj_expr = sum(sum(model.c[i, j]*model.x[i, j] for j in model.j) for i in model.i)\n",
    "\n",
    "model.cost = Objective(expr = obj_expr, sense=minimize)\n",
    "\n",
    "model.constraints = ConstraintList()\n",
    "\n",
    "for i in model.i:\n",
    "    model.constraints.add(expr = sum(model.x[i, j] for j in model.j) <= model.d[i])\n",
    "\n",
    "for j in model.j:\n",
    "    model.constraints.add(expr = sum(model.x[i, j] for i in model.i) >= model.r[j])\n",
    "\n",
    "results = SolverFactory('glpk').solve(model)\n",
    "\n",
    "model.display()"
   ],
   "cell_type": "code",
   "metadata": {},
   "execution_count": 5,
   "outputs": [
    {
     "output_type": "stream",
     "name": "stdout",
     "text": [
      "Model problema di miscelazione\n\n  Variables:\n    x : Size=6, Index=x_index\n        Key                      : Lower : Value : Upper : Fixed : Stale : Domain\n        ('deposito A', 'milano') :     0 : 300.0 :  None : False : False : NonNegativeReals\n        ('deposito A', 'napoli') :     0 :   0.0 :  None : False : False : NonNegativeReals\n          ('deposito A', 'roma') :     0 : 700.0 :  None : False : False : NonNegativeReals\n        ('deposito B', 'milano') :     0 : 500.0 :  None : False : False : NonNegativeReals\n        ('deposito B', 'napoli') :     0 : 900.0 :  None : False : False : NonNegativeReals\n          ('deposito B', 'roma') :     0 :   0.0 :  None : False : False : NonNegativeReals\n\n  Objectives:\n    cost : Size=1, Index=None, Active=True\n        Key  : Active : Value\n        None :   True : 30200.0\n\n  Constraints:\n    constraints : Size=5\n        Key : Lower : Body   : Upper\n          1 :  None : 1000.0 : 1000.0\n          2 :  None : 1400.0 : 1400.0\n          3 : 800.0 :  800.0 :   None\n          4 : 700.0 :  700.0 :   None\n          5 : 900.0 :  900.0 :   None\n"
     ]
    }
   ]
  },
  {
   "cell_type": "code",
   "execution_count": null,
   "metadata": {},
   "outputs": [],
   "source": []
  }
 ]
}