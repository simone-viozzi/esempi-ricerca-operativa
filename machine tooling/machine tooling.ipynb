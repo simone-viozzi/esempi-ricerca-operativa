{
 "metadata": {
  "language_info": {
   "codemirror_mode": {
    "name": "ipython",
    "version": 3
   },
   "file_extension": ".py",
   "mimetype": "text/x-python",
   "name": "python",
   "nbconvert_exporter": "python",
   "pygments_lexer": "ipython3",
   "version": "3.9.6"
  },
  "orig_nbformat": 4,
  "kernelspec": {
   "name": "python3",
   "display_name": "Python 3.9.6 64-bit"
  },
  "interpreter": {
   "hash": "4cd7ab41f5fca4b9b44701077e38c5ffd31fe66a6cab21e0214b68d958d0e462"
  }
 },
 "nbformat": 4,
 "nbformat_minor": 2,
 "cells": [
  {
   "source": [
    "# machina tooling\n",
    "\n",
    "Una macchina a controllo numerico dispone di un numero limitato di slot per l’alloggiamento degli utensili.\n",
    "\n",
    "Dato un insieme di lavorazioni, ognuna delle quali garantisce un determinato profitto e richiede un set specifico di utensili, quali utensili montare al fine di massimizzare il profitto totale delle lavorazioni che possono essere effettuate?\n",
    "\n",
    "![tab](./tab.png)\n",
    "\n",
    "5 slot utensili disponibili"
   ],
   "cell_type": "markdown",
   "metadata": {}
  },
  {
   "cell_type": "code",
   "execution_count": 13,
   "metadata": {},
   "outputs": [
    {
     "output_type": "error",
     "ename": "AttributeError",
     "evalue": "'ConstraintList' object has no attribute 'append'",
     "traceback": [
      "\u001b[0;31m---------------------------------------------------------------------------\u001b[0m",
      "\u001b[0;31mAttributeError\u001b[0m                            Traceback (most recent call last)",
      "\u001b[0;32m/tmp/ipykernel_72875/2793278685.py\u001b[0m in \u001b[0;36m<module>\u001b[0;34m\u001b[0m\n\u001b[1;32m     23\u001b[0m \u001b[0;34m\u001b[0m\u001b[0m\n\u001b[1;32m     24\u001b[0m \u001b[0;32mfor\u001b[0m \u001b[0mj\u001b[0m \u001b[0;32min\u001b[0m \u001b[0mmodel\u001b[0m\u001b[0;34m.\u001b[0m\u001b[0mjobs\u001b[0m\u001b[0;34m:\u001b[0m\u001b[0;34m\u001b[0m\u001b[0;34m\u001b[0m\u001b[0m\n\u001b[0;32m---> 25\u001b[0;31m     \u001b[0mmodel\u001b[0m\u001b[0;34m.\u001b[0m\u001b[0mconstraints\u001b[0m\u001b[0;34m.\u001b[0m\u001b[0mappend\u001b[0m\u001b[0;34m(\u001b[0m\u001b[0mrule\u001b[0m \u001b[0;34m=\u001b[0m \u001b[0mjob_possib\u001b[0m\u001b[0;34m)\u001b[0m\u001b[0;34m\u001b[0m\u001b[0;34m\u001b[0m\u001b[0m\n\u001b[0m\u001b[1;32m     26\u001b[0m \u001b[0;34m\u001b[0m\u001b[0m\n\u001b[1;32m     27\u001b[0m \u001b[0;34m\u001b[0m\u001b[0m\n",
      "\u001b[0;31mAttributeError\u001b[0m: 'ConstraintList' object has no attribute 'append'"
     ]
    }
   ],
   "source": [
    "from pyomo.environ import *\n",
    "model = ConcreteModel('problema di trasporto')\n",
    "\n",
    "utensili = ['A', 'B', 'C', 'D', 'E', 'F', 'G']\n",
    "job = { 'job1': [  800, ('A', 'C', 'D', 'E')], \n",
    "        'job2': [ 1200, ('A', 'B', 'C', 'E')],\n",
    "        'job3': [  950, ('B', 'D', 'E', 'G')],\n",
    "        'job4': [  860, ('E', 'F', 'G')], \n",
    "        'job5': [  750, ('A', 'D', 'G')] }\n",
    "\n",
    "model.utensili = Set(initialize=utensili)\n",
    "model.jobs = Set(initialize=job.keys())\n",
    "\n",
    "model.prof = Param(model.jobs, initialize={key: value[0] for key, value in job.items()})\n",
    "\n",
    "model.select_utens = Var(model.utensili, domain=Boolean)\n",
    "model.select_job = Var(model.jobs, domain=Boolean)\n",
    "\n",
    "model.constraints = ConstraintList()\n",
    "\n",
    "def job_possib(model, job):\n",
    "    print(model)\n",
    "\n",
    "for j in model.jobs:\n",
    "    model.constraints.append(rule = job_possib)\n",
    "\n",
    "\n",
    "obj_expr = sum(sum(model.c[i, j]*model.x[i, j] for j in model.j) for i in model.i)\n",
    "model.cost = Objective(expr = obj_expr, sense=minimize)\n",
    "\n",
    "SolverFactory('glpk').solve(model)\n",
    "model.display()"
   ]
  },
  {
   "cell_type": "code",
   "execution_count": null,
   "metadata": {},
   "outputs": [],
   "source": []
  }
 ]
}