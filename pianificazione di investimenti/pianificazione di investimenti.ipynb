{
 "metadata": {
  "language_info": {
   "codemirror_mode": {
    "name": "ipython",
    "version": 3
   },
   "file_extension": ".py",
   "mimetype": "text/x-python",
   "name": "python",
   "nbconvert_exporter": "python",
   "pygments_lexer": "ipython3",
   "version": "3.9.6"
  },
  "orig_nbformat": 4,
  "kernelspec": {
   "name": "python3",
   "display_name": "Python 3.9.6 64-bit"
  },
  "interpreter": {
   "hash": "4cd7ab41f5fca4b9b44701077e38c5ffd31fe66a6cab21e0214b68d958d0e462"
  }
 },
 "nbformat": 4,
 "nbformat_minor": 2,
 "cells": [
  {
   "source": [
    "# pianificazione di investimenti\n",
    "\n",
    "Si dispone di un budget di $b$€ per realizzare n progetti.\n",
    "\n",
    "Ogni progetto ha un costo ci e un guadagno atteso di $p_i$€. Quali progetti occorre selezionare per massimizzare il guadagno atteso rispettando il vincolo di budget?\n",
    "\n",
    "![tab](./tabella.png)\n"
   ],
   "cell_type": "markdown",
   "metadata": {}
  },
  {
   "source": [
    "## modello di programmazione matematica\n",
    "\n",
    "$$ \n",
    "Z = \\max( 60P1 + 65P2 + 45P3 + 55P4 )\n",
    "$$\n",
    "$$\n",
    "\\begin{matrix}\n",
    "C1: & 3P1 & + & 5P2 & + & P3 & + & 2P4 & \\le 7 \\\\\n",
    "C2: &  P1 &   &     &   &    &   &     & \\ge 0 \\\\\n",
    "C3: &     &   &  P2 &   &    &   &     & \\ge 0 \\\\\n",
    "C4: &     &   &     &   & P3 &   &     & \\ge 0 \\\\\n",
    "C5: &     &   &     &   &    &   &  P4 & \\ge 0 \n",
    "\\end{matrix}\n",
    "$$"
   ],
   "cell_type": "markdown",
   "metadata": {}
  },
  {
   "cell_type": "code",
   "execution_count": 5,
   "metadata": {},
   "outputs": [
    {
     "output_type": "stream",
     "name": "stdout",
     "text": [
      "profitto = 315.0\n",
      "P1 = 0; P2 = 0; P3 = 7; P4 = 0\n",
      "Writing problem data to 'test'...\n",
      "15 lines were written\n"
     ]
    }
   ],
   "source": [
    "import glpk            \n",
    "\n",
    "lp = glpk.LPX()       \n",
    "lp.name = 'pianificazione investimenti'    \n",
    "\n",
    "lp.obj.maximize = True\n",
    "lp.rows.add(1)\n",
    "\n",
    "lp.rows[0].name = 'profitto'\n",
    "\n",
    "lp.rows[0].bounds = (None, 7.0)\n",
    "\n",
    "lp.cols.add(4)\n",
    "\n",
    "lp.cols[0].name = 'P1'\n",
    "lp.cols[1].name = 'P2'\n",
    "lp.cols[2].name = 'P3'\n",
    "lp.cols[3].name = 'P4'\n",
    "\n",
    "lp.cols[0].bounds = (0.0, None)\n",
    "lp.cols[1].bounds = (0.0, None)\n",
    "lp.cols[2].bounds = (0.0, None)\n",
    "lp.cols[3].bounds = (0.0, None)\n",
    "\n",
    "lp.cols[0].kind = int\n",
    "lp.cols[1].kind = int\n",
    "lp.cols[2].kind = int\n",
    "lp.cols[3].kind = int\n",
    "\n",
    "lp.obj[:] = [ 60, 65, 45, 55 ]\n",
    "\n",
    "lp.matrix = [ 3, 5, 1, 2 ]\n",
    "\n",
    "lp.simplex()\n",
    "lp.integer() # -> per ottenere soluzioni intere\n",
    "\n",
    "lp.write(cpxlp='test')\n",
    "\n",
    "print(f'profitto = {lp.obj.value}') # Retrieve and print obj func value\n",
    "print('; '.join('%s = %g' % (c.name, c.primal) for c in lp.cols))"
   ]
  },
  {
   "cell_type": "code",
   "execution_count": null,
   "metadata": {},
   "outputs": [],
   "source": []
  }
 ]
}