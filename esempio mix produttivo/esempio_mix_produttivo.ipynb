{
 "metadata": {
  "language_info": {
   "codemirror_mode": {
    "name": "ipython",
    "version": 3
   },
   "file_extension": ".py",
   "mimetype": "text/x-python",
   "name": "python",
   "nbconvert_exporter": "python",
   "pygments_lexer": "ipython3",
   "version": "3.9.6"
  },
  "orig_nbformat": 4,
  "kernelspec": {
   "name": "python3",
   "display_name": "Python 3.9.6 64-bit"
  },
  "interpreter": {
   "hash": "4cd7ab41f5fca4b9b44701077e38c5ffd31fe66a6cab21e0214b68d958d0e462"
  }
 },
 "nbformat": 4,
 "nbformat_minor": 2,
 "cells": [
  {
   "source": [
    "# esempio mix produttivo AMPL\n",
    "\n",
    "La società Merlin produce i concimi prato starter (tipo A) e prato estate (tipo B) che vende rispettivamente a 25 e 28 €/Kg. Considerando la composizione dei singoli concimi e le disponibilità in magazzino (vedi tabella) qual è il guadagno massimo che si può ottenere producendo i concimi di tipo A e B?\n",
    "\n",
    "| composizione | Azoto | Fosforo | Potassio | Magnesio |\n",
    "| :- | -: | -: | -: | -: |\n",
    "| tipo A | 40% | 40% | 10% | 10% |\n",
    "| tipo B | 24% | 45% | 31% | 0% |\n",
    "| disponibilità (Kg) | 312 | 360 | 160 | 70 |\n"
   ],
   "cell_type": "markdown",
   "metadata": {}
  },
  {
   "source": [
    "## modello di programmazione matematica\n",
    "\n",
    "$$ \n",
    "Z = \\max( 25x + 28y )\n",
    "$$\n",
    "$$\n",
    "\\begin{matrix}\n",
    "C1: & 0.4A & + & 0.24B & \\le 312 \\\\\n",
    "C2: & 0.4A & + & 0.45B & \\le 360 \\\\\n",
    "C3: & 0.1A & + & 0.31B & \\le 160 \\\\ \n",
    "C4: & 0.1A &   &       & \\le 70 \\\\\n",
    "C5: & A &  &   & \\ge 0 \\\\\n",
    "C6: &   &  & B & \\ge 0 \n",
    "\\end{matrix}\n",
    "$$"
   ],
   "cell_type": "markdown",
   "metadata": {}
  },
  {
   "source": [
    "## soluzione del modello di programmazione matematica"
   ],
   "cell_type": "markdown",
   "metadata": {}
  },
  {
   "cell_type": "code",
   "execution_count": 1,
   "metadata": {},
   "outputs": [
    {
     "output_type": "stream",
     "name": "stdout",
     "text": [
      "Z = 22471.0\nA = 639; B = 232Writing problem data to 'test'...\n\n16 lines were written\n"
     ]
    }
   ],
   "source": [
    "import glpk            # Import the GLPK module\n",
    "\n",
    "lp = glpk.LPX()        # Create empty problem instance\n",
    "lp.name = 'mix produttivo'     # Assign symbolic name to problem\n",
    "\n",
    "lp.obj.maximize = True # Set this as a maximization problem\n",
    "lp.rows.add(4)         # Append three rows to this instance\n",
    "\n",
    "lp.rows[0].name = 'azoto'\n",
    "lp.rows[1].name = 'fosforo'\n",
    "lp.rows[2].name = 'potassio'\n",
    "lp.rows[3].name = 'magnesio'\n",
    "\n",
    "lp.rows[0].bounds = (None, 312.0)\n",
    "lp.rows[1].bounds = (None, 360.0)\n",
    "lp.rows[2].bounds = (None, 160.0)\n",
    "lp.rows[3].bounds = (None, 70.0)\n",
    "\n",
    "lp.cols.add(2)\n",
    "\n",
    "lp.cols[0].name = 'A'\n",
    "lp.cols[1].name = 'B'\n",
    "\n",
    "lp.cols[0].bounds = (0.0, None)\n",
    "lp.cols[1].bounds = (0.0, None)\n",
    "\n",
    "lp.cols[0].kind = int\n",
    "lp.cols[1].kind = int\n",
    "\n",
    "lp.obj[:] = [ 25.0, 28.0 ]\n",
    "\n",
    "lp.matrix = [ 0.4, 0.24,    \n",
    "              0.4, 0.45,      \n",
    "              0.1, 0.31,\n",
    "              0.1, 0.0 ]\n",
    "\n",
    "lp.simplex()\n",
    "lp.integer() # -> per ottenere soluzioni intere\n",
    "\n",
    "lp.write(cpxlp='test')\n",
    "\n",
    "print(f'Z = {lp.obj.value}') # Retrieve and print obj func value\n",
    "print('; '.join('%s = %g' % (c.name, c.primal) for c in lp.cols))"
   ]
  },
  {
   "cell_type": "code",
   "execution_count": null,
   "metadata": {},
   "outputs": [],
   "source": []
  }
 ]
}