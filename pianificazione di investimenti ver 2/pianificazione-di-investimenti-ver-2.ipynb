{
 "metadata": {
  "language_info": {
   "codemirror_mode": {
    "name": "ipython",
    "version": 3
   },
   "file_extension": ".py",
   "mimetype": "text/x-python",
   "name": "python",
   "nbconvert_exporter": "python",
   "pygments_lexer": "ipython3",
   "version": "3.9.6"
  },
  "orig_nbformat": 4,
  "kernelspec": {
   "name": "python3",
   "display_name": "Python 3.9.6 64-bit"
  },
  "interpreter": {
   "hash": "4cd7ab41f5fca4b9b44701077e38c5ffd31fe66a6cab21e0214b68d958d0e462"
  }
 },
 "nbformat": 4,
 "nbformat_minor": 2,
 "cells": [
  {
   "source": [
    "# pianificazione di investimenti ver 2\n",
    "\n",
    "Si vogliono realizzare $n$ progetti nei prossimi $T$ anni. Di ogni progetto i si conosce un indice di redditività $p_i$ che esprime il guadagno finale atteso (in Euro) e un profilo di costo $a_i$ = ($a_{i1}$, $a_{i2}$, ..., $a_{iT}$) per ogni anno del periodo considerato. \n",
    "\n",
    "Inoltre, in ogni anno $j$ del periodo si dispone di un budget di $b_j$ €. \n",
    "\n",
    "Quali progetti occorre selezionare per massimizzare il guadagno atteso rispettando i vincoli di budget?\n",
    "\n",
    "![tab1](./tab1.png)"
   ],
   "cell_type": "markdown",
   "metadata": {}
  },
  {
   "source": [
    "## dati del problema"
   ],
   "cell_type": "markdown",
   "metadata": {}
  },
  {
   "cell_type": "code",
   "execution_count": 1,
   "metadata": {},
   "outputs": [],
   "source": [
    "from pyomo.environ import *\n",
    "from itertools import islice\n",
    "\n",
    "def skip_first_dict(d):\n",
    "    return dict(islice(d.items(), 1, len(d)))\n",
    "\n",
    "def init():\n",
    "    i = [ 'pr1', 'pr2', 'pr3' ]\n",
    "    P = [   5.0,   3.0,  4.0  ]\n",
    "\n",
    "    j = { 1: 'an1', 2: 'an2', 3: 'an3', 4: 'an4' }\n",
    "    b = [      5.0,      7.0,      3.0,     4.0  ]\n",
    "\n",
    "    c = [[3,  5,  2,   1], \n",
    "         [2,   2,  2,  4], \n",
    "         [5,  3,  5,   5]]\n",
    "    return i, P, j, b, c"
   ]
  },
  {
   "source": [
    "## tipo 1\n",
    "\n",
    "Ogni nuovo progetto i comporta un costo globale di gestione $c_i$. \n",
    "\n",
    "Si vuole massimizzare il ricavo, cioè la differenza tra il guadagno atteso e i costi di gestione.\n",
    "\n",
    "$$\n",
    "Z = \\max \\left( \\sum_j \\left( \\sum_i \\left( P_i \\ Pr_{j} -  a_{ij} \\ Pr_{j} \\right) \\right) \\right) \\\\\n",
    "\n",
    "C1: \\sum_i  \\left( a_{ij} Pr_j \\right) \\le b_j \\ \\forall j \\\\\n",
    "\n",
    "C2: \\sum_i pr_{ij} \\ge 1  \\ \\ \\forall j\n",
    "\n",
    "$$\n"
   ],
   "cell_type": "markdown",
   "metadata": {}
  },
  {
   "cell_type": "code",
   "execution_count": 2,
   "metadata": {},
   "outputs": [
    {
     "output_type": "stream",
     "name": "stdout",
     "text": [
      "Model tipo 1\n\n  Variables:\n    Pr : Size=12, Index=Pr_index\n        Key            : Lower : Value : Upper : Fixed : Stale : Domain\n        ('pr1', 'an1') :     0 :   1.0 :     1 : False : False : Boolean\n        ('pr1', 'an2') :     0 :   0.0 :     1 : False : False : Boolean\n        ('pr1', 'an3') :     0 :   1.0 :     1 : False : False : Boolean\n        ('pr1', 'an4') :     0 :   1.0 :     1 : False : False : Boolean\n        ('pr2', 'an1') :     0 :   1.0 :     1 : False : False : Boolean\n        ('pr2', 'an2') :     0 :   1.0 :     1 : False : False : Boolean\n        ('pr2', 'an3') :     0 :   0.0 :     1 : False : False : Boolean\n        ('pr2', 'an4') :     0 :   0.0 :     1 : False : False : Boolean\n        ('pr3', 'an1') :     0 :   0.0 :     1 : False : False : Boolean\n        ('pr3', 'an2') :     0 :   1.0 :     1 : False : False : Boolean\n        ('pr3', 'an3') :     0 :   0.0 :     1 : False : False : Boolean\n        ('pr3', 'an4') :     0 :   0.0 :     1 : False : False : Boolean\n\n  Objectives:\n    ricavo : Size=1, Index=None, Active=True\n        Key  : Active : Value\n        None :   True :  12.0\n\n  Constraints:\n    constraints : Size=8\n        Key : Lower : Body : Upper\n          1 :  None :  5.0 :   5.0\n          2 :  None :  5.0 :   7.0\n          3 :  None :  2.0 :   3.0\n          4 :  None :  1.0 :   4.0\n          5 :   1.0 :  2.0 :  None\n          6 :   1.0 :  2.0 :  None\n          7 :   1.0 :  1.0 :  None\n          8 :   1.0 :  1.0 :  None\n"
     ]
    }
   ],
   "source": [
    "model = ConcreteModel()\n",
    "model.name = 'tipo 1'\n",
    "\n",
    "i, P, j, b, c = init()\n",
    "\n",
    "model.i = Set(initialize=i)\n",
    "model.j = Set(initialize=j.values())\n",
    "\n",
    "c_dict = {}\n",
    "for i, mi in enumerate(model.i):\n",
    "    for j, mj in enumerate(model.j):\n",
    "        c_dict[mi, mj] = c[i][j]\n",
    "\n",
    "P = {mi: P[i] for i, mi in enumerate(model.i)}\n",
    "b = {mj: b[j] for j, mj in enumerate(model.j)}\n",
    "\n",
    "model.P = Param(model.i, initialize=P)\n",
    "model.b = Param(model.j, initialize=b)\n",
    "\n",
    "model.c = Param(model.i, model.j, initialize=c_dict)\n",
    "\n",
    "model.Pr = Var(model.i, model.j, domain=Boolean, initialize=0)\n",
    "\n",
    "obj_expr = sum(sum(model.P[i]*model.Pr[i, j] - model.c[i, j]*model.Pr[i, j] for i in model.i) for j in model.j)\n",
    "\n",
    "model.ricavo = Objective(expr = obj_expr, sense=maximize)\n",
    "\n",
    "model.constraints = ConstraintList()\n",
    "\n",
    "for j in model.j:\n",
    "    model.constraints.add(expr = sum(model.c[i, j]*model.Pr[i, j] for i in model.i) <= model.b[j])\n",
    "\n",
    "for j in model.j:\n",
    "    model.constraints.add(expr = sum(model.Pr[i, j] for i in model.i) >= 1)\n",
    "\n",
    "results = SolverFactory('glpk').solve(model)\n",
    "\n",
    "model.display()\n",
    "\n",
    "del(model)\n"
   ]
  },
  {
   "source": [
    "## Tipo 2\n",
    "\n",
    "Il budget disponibile in ogni anno j è pari ad una quota fissa bj sommata al budget residuo dei periodi precedenti.\n",
    "\n",
    "$$\n",
    "Z = \\max \\left( \\sum_j \\left( \\sum_i \\left( P_i \\ Pr_{j} -  a_{ij} \\ Pr_{j} \\right) \\right) \\right) \\\\\n",
    "\n",
    "C1: \\sum_i  \\left( a_{ij} Pr_j \\right) \\le bg_j \\ \\ \\forall j \\\\\n",
    "\n",
    "C2: bg_0 = b_0 \\\\\n",
    "\n",
    "C3: bg_j =  \\sum_i \\left( P_i \\ Pr_{j-1} -  a_{ij-1} \\ Pr_{j-1} \\right) + b_j \\ \\ \\forall j \\in (2...T) \\\\\n",
    "\n",
    "C4: \\sum_i pr_{ij} \\ge 1  \\ \\ \\forall j\n",
    "\n",
    "$$"
   ],
   "cell_type": "markdown",
   "metadata": {}
  },
  {
   "cell_type": "code",
   "execution_count": 3,
   "metadata": {},
   "outputs": [
    {
     "output_type": "stream",
     "name": "stdout",
     "text": [
      "Model tipo 2\n\n  Variables:\n    Pr : Size=12, Index=Pr_index\n        Key            : Lower : Value : Upper : Fixed : Stale : Domain\n        ('pr1', 'an1') :     0 :   1.0 :     1 : False : False : Boolean\n        ('pr1', 'an2') :     0 :   0.0 :     1 : False : False : Boolean\n        ('pr1', 'an3') :     0 :   1.0 :     1 : False : False : Boolean\n        ('pr1', 'an4') :     0 :   1.0 :     1 : False : False : Boolean\n        ('pr2', 'an1') :     0 :   1.0 :     1 : False : False : Boolean\n        ('pr2', 'an2') :     0 :   1.0 :     1 : False : False : Boolean\n        ('pr2', 'an3') :     0 :   1.0 :     1 : False : False : Boolean\n        ('pr2', 'an4') :     0 :   0.0 :     1 : False : False : Boolean\n        ('pr3', 'an1') :     0 :   0.0 :     1 : False : False : Boolean\n        ('pr3', 'an2') :     0 :   1.0 :     1 : False : False : Boolean\n        ('pr3', 'an3') :     0 :   0.0 :     1 : False : False : Boolean\n        ('pr3', 'an4') :     0 :   0.0 :     1 : False : False : Boolean\n    bg : Size=4, Index=j\n        Key : Lower : Value : Upper : Fixed : Stale : Domain\n        an1 :  None :   5.0 :  None : False : False :  Reals\n        an2 :  None :  10.0 :  None : False : False :  Reals\n        an3 :  None :   5.0 :  None : False : False :  Reals\n        an4 :  None :   8.0 :  None : False : False :  Reals\n\n  Objectives:\n    ricavo : Size=1, Index=None, Active=True\n        Key  : Active : Value\n        None :   True :  13.0\n\n  Constraints:\n    constraints : Size=11\n        Key : Lower : Body : Upper\n          1 :  None :  0.0 :   0.0\n          2 :  None : -5.0 :   0.0\n          3 :  None : -1.0 :   0.0\n          4 :  None : -7.0 :   0.0\n          5 :   1.0 :  2.0 :  None\n          6 :   1.0 :  2.0 :  None\n          7 :   1.0 :  2.0 :  None\n          8 :   1.0 :  1.0 :  None\n          9 :   0.0 :  0.0 :   0.0\n         10 :   0.0 :  0.0 :   0.0\n         11 :   0.0 :  0.0 :   0.0\n"
     ]
    }
   ],
   "source": [
    "model = ConcreteModel()\n",
    "model.name = 'tipo 2'\n",
    "\n",
    "i, P, j, b, c = init()\n",
    "\n",
    "model.i = Set(initialize=i)\n",
    "model.j = Set(initialize=j.values())\n",
    "\n",
    "c_dict = {}\n",
    "for il, mi in enumerate(model.i):\n",
    "    for jl, mj in enumerate(model.j):\n",
    "        c_dict[mi, mj] = c[il][jl]\n",
    "\n",
    "P = {mi: P[il] for il, mi in enumerate(model.i)}\n",
    "b = {mj: b[jl] for jl, mj in enumerate(model.j)}\n",
    "\n",
    "model.P = Param(model.i, initialize=P)\n",
    "model.b = Param(model.j, initialize=b)\n",
    "\n",
    "model.c = Param(model.i, model.j, initialize=c_dict)\n",
    "\n",
    "model.Pr = Var(model.i, model.j, domain=Boolean, initialize=0)\n",
    "\n",
    "model.bg = Var(model.j, domain=Reals, initialize=0)\n",
    "\n",
    "model.bg[j[1]] = model.b[j[1]]\n",
    "\n",
    "obj_expr = sum(sum(model.P[i]*model.Pr[i, j] - model.c[i, j]*model.Pr[i, j] for i in model.i) for j in model.j)\n",
    "\n",
    "model.ricavo = Objective(expr = obj_expr, sense=maximize)\n",
    "\n",
    "model.constraints = ConstraintList()\n",
    "\n",
    "for mj in model.j:\n",
    "    model.constraints.add(expr = sum(model.c[i, mj]*model.Pr[i, mj] for i in model.i) <= model.bg[mj])\n",
    "\n",
    "for mj in model.j:\n",
    "    model.constraints.add(expr = sum(model.Pr[i, mj] for i in model.i) >= 1)\n",
    "\n",
    "for mj in skip_first_dict(j):\n",
    "    model.constraints.add(expr = \n",
    "                model.bg[j[mj]] == sum(model.P[i]*model.Pr[i, j[mj-1]] \n",
    "                                        - model.c[i, j[mj-1]]*model.Pr[i, j[mj-1]] \n",
    "                                        for i in model.i)\n",
    "                                     + model.b[j[mj]])\n",
    "\n",
    "\n",
    "results = SolverFactory('glpk').solve(model)\n",
    "\n",
    "model.display()"
   ]
  },
  {
   "cell_type": "code",
   "execution_count": null,
   "metadata": {},
   "outputs": [],
   "source": []
  }
 ]
}