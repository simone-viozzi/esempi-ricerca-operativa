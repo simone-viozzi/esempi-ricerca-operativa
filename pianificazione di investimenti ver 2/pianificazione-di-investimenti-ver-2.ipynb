{
 "metadata": {
  "language_info": {
   "codemirror_mode": {
    "name": "ipython",
    "version": 3
   },
   "file_extension": ".py",
   "mimetype": "text/x-python",
   "name": "python",
   "nbconvert_exporter": "python",
   "pygments_lexer": "ipython3",
   "version": "3.9.6"
  },
  "orig_nbformat": 4,
  "kernelspec": {
   "name": "python3",
   "display_name": "Python 3.9.6 64-bit ('local')"
  },
  "interpreter": {
   "hash": "4cd7ab41f5fca4b9b44701077e38c5ffd31fe66a6cab21e0214b68d958d0e462"
  }
 },
 "nbformat": 4,
 "nbformat_minor": 2,
 "cells": [
  {
   "source": [
    "# pianificazione di investimenti ver 2\n",
    "\n",
    "Si vogliono realizzare $n$ progetti nei prossimi $T$ anni. Di ogni progetto i si conosce un indice di redditività $p_i$ che esprime il guadagno finale atteso (in Euro) e un profilo di costo $a_i$ = ($a_{i1}$, $a_{i2}$, ..., $a_{iT}$) per ogni anno del periodo considerato. \n",
    "\n",
    "Inoltre, in ogni anno $j$ del periodo si dispone di un budget di $b_j$ €. \n",
    "\n",
    "Quali progetti occorre selezionare per massimizzare il guadagno atteso rispettando i vincoli di budget?\n",
    "\n",
    "![tab1](./tab1.png)"
   ],
   "cell_type": "markdown",
   "metadata": {}
  },
  {
   "source": [
    "## tipo 1\n",
    "\n",
    "Ogni nuovo progetto i comporta un costo globale di gestione $c_i$. \n",
    "\n",
    "Si vuole massimizzare il ricavo, cioè la differenza tra il guadagno atteso e i costi di gestione.\n",
    "\n",
    "$$\n",
    "Z = \\max \\left( \\sum_T \\left( \\sum_i \\left( P_i \\ Pr_{T} \\right) - \\sum_i \\left( a_{iT} \\ Pr_{T} \\right) \\right) \\right)\n",
    "$$\n",
    "$$\n",
    "\n",
    "C1: \\sum_i  \\left( a_{iT} Pr_T \\right) \\le b_T \\ \\forall T \\\\\n",
    "\n",
    "$$\n"
   ],
   "cell_type": "markdown",
   "metadata": {}
  },
  {
   "cell_type": "code",
   "execution_count": 3,
   "metadata": {},
   "outputs": [
    {
     "output_type": "stream",
     "name": "stdout",
     "text": [
      "WARNING: Loading a SolverResults object with a warning status into\n",
      "    model.name=\"unknown\";\n",
      "      - termination condition: other\n",
      "      - message from solver: <undefined>\n",
      "# ==========================================================\n",
      "# = Solver Results                                         =\n",
      "# ==========================================================\n",
      "# ----------------------------------------------------------\n",
      "#   Solver Information\n",
      "# ----------------------------------------------------------\n",
      "Solver: \n",
      "- Status: warning\n",
      "  Termination condition: other\n",
      "Model unknown\n",
      "\n",
      "  Variables:\n",
      "    Pr : Size=12, Index=Pr_index\n",
      "        Key    : Lower : Value : Upper : Fixed : Stale : Domain\n",
      "        (0, 0) :     0 :     0 :  None : False : False : NonNegativeIntegers\n",
      "        (0, 1) :     0 :     0 :  None : False : False : NonNegativeIntegers\n",
      "        (0, 2) :     0 :     0 :  None : False : False : NonNegativeIntegers\n",
      "        (0, 3) :     0 :     0 :  None : False : False : NonNegativeIntegers\n",
      "        (1, 0) :     0 :     0 :  None : False : False : NonNegativeIntegers\n",
      "        (1, 1) :     0 :     0 :  None : False : False : NonNegativeIntegers\n",
      "        (1, 2) :     0 :     0 :  None : False : False : NonNegativeIntegers\n",
      "        (1, 3) :     0 :     0 :  None : False : False : NonNegativeIntegers\n",
      "        (2, 0) :     0 :     0 :  None : False : False : NonNegativeIntegers\n",
      "        (2, 1) :     0 :     0 :  None : False : False : NonNegativeIntegers\n",
      "        (2, 2) :     0 :     0 :  None : False : False : NonNegativeIntegers\n",
      "        (2, 3) :     0 :     0 :  None : False : False : NonNegativeIntegers\n",
      "\n",
      "  Objectives:\n",
      "    ricavo : Size=1, Index=None, Active=True\n",
      "        Key  : Active : Value\n",
      "        None :   True :   0.0\n",
      "\n",
      "  Constraints:\n",
      "    constraints : Size=4\n",
      "        Key : Lower : Body : Upper\n",
      "          1 :  None :    0 :  30.0\n",
      "          2 :  None :    0 :   6.0\n",
      "          3 :  None :    0 :   6.0\n",
      "          4 :  None :    0 :   6.0\n"
     ]
    }
   ],
   "source": [
    "from pyomo.environ import *\n",
    "from pyomo.opt import SolverStatus, TerminationCondition\n",
    "\n",
    "model = ConcreteModel()\n",
    "model.dual = Suffix(direction=Suffix.IMPORT)\n",
    "\n",
    "P = [30.0, 20.0, 25.0]\n",
    "b = [30.0, 6.0, 6.0, 6.0]\n",
    "\n",
    "c = [[10, 5, -2, -1], \n",
    "    [12, 2, -2, -5], \n",
    "    [15, -1, 5, 5]]\n",
    "\n",
    "model.i = RangeSet(0,len(P)-1)\n",
    "model.T = RangeSet(0,len(b)-1)\n",
    "\n",
    "costi = {}\n",
    "for i in model.i:\n",
    "    for T in model.T:\n",
    "        costi[i, T] = c[i][T]\n",
    "\n",
    "P = {i: P[i] for i in model.i}\n",
    "b = {T: b[T] for T in model.T}\n",
    "\n",
    "model.P = Param(model.i, initialize=P)\n",
    "model.b = Param(model.T, initialize=b)\n",
    "\n",
    "model.c = Param(model.i, model.T, initialize=costi)\n",
    "\n",
    "model.Pr = Var(model.i, model.T, domain=NonNegativeIntegers, initialize=0)\n",
    "\n",
    "obj_expr = sum((sum(model.P[i]*model.Pr[i, T] for i in model.i) - sum(model.c[i, T]*model.Pr[i, T] for i in model.i)) for T in model.T)\n",
    "\n",
    "model.ricavo = Objective(expr = obj_expr, sense=maximize)\n",
    "\n",
    "model.constraints = ConstraintList()\n",
    "\n",
    "for T in model.T:\n",
    "    model.constraints.add(expr = sum(model.c[i, T]*model.Pr[i, T] for i in model.i) <= model.b[T])\n",
    "\n",
    "#model.display()\n",
    "\n",
    "results = SolverFactory('ipopt').solve(model)\n",
    "\n",
    "results.write()\n",
    "\n",
    "model.display()\n"
   ]
  },
  {
   "cell_type": "code",
   "execution_count": null,
   "metadata": {},
   "outputs": [],
   "source": []
  }
 ]
}